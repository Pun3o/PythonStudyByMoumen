{
  "cells": [
    {
      "cell_type": "markdown",
      "metadata": {
        "id": "view-in-github",
        "colab_type": "text"
      },
      "source": [
        "<a href=\"https://colab.research.google.com/github/Pun3o/PythonStudiesByMoumen/blob/main/TP1.ipynb\" target=\"_parent\"><img src=\"https://colab.research.google.com/assets/colab-badge.svg\" alt=\"Open In Colab\"/></a>"
      ]
    },
    {
      "cell_type": "markdown",
      "metadata": {
        "id": "MG8-0PMsf5dj"
      },
      "source": [
        "# Lab 1: Welcome to Python! + Data Structures\n",
        "\n",
        "## Overview\n",
        "\n",
        "Welcome to your first (or perhaps second) lab! Labs in CS41 are designed to be your opportunity to experiment with Python and gain hands-on experience with the language.\n",
        "\n",
        "The primary goal of the first half is to ensure that your Python installation process went smoothly, and that there are no lingering Python installation bugs floating around.\n",
        "\n",
        "The second half focuses more on using data structures to solve some interesting problems.\n",
        "\n",
        "You're welcome to work in groups or individually. Remember to have some fun! Make friends and maybe relax a little too. If you want to cue up any songs to the CS41 playlist, let us know!\n",
        "\n",
        "**Note: These labs are *designed* to be long! You shouldn't be able to finish all the problems in one class period. Work through as much as you can in the time allotted, but also feel free to skip from question to question freely. The extra problems are intended to be extra practice, if you want to hone your Python skills even more.**\n",
        "\n",
        "Above all, have fun playing with Python! Enjoy.\n",
        "\n",
        "## Investigating Data Structures\n",
        "\n",
        "*[Optional Reading on Standard Types - check out Sequence types and Mapping types](https://docs.python.org/3.4/library/stdtypes.html)*\n",
        "\n",
        "### Lists\n",
        "Type the following lines at your Python interactive interpreter and see if they match what you expect:\n",
        "\n",
        "```\n",
        "s = [0] * 3\n",
        "print(s)\n",
        "s[0] += 1\n",
        "print(s)\n",
        "\n",
        "s = [''] * 3\n",
        "print(s)\n",
        "s[0] += 'a'\n",
        "print(s)\n",
        "\n",
        "s = [[]] * 3\n",
        "print(s)\n",
        "s[0] += [1]\n",
        "print(s)\n",
        "```\n",
        "\n",
        "Why is this happening? Consider using the `id` function to investigate further. What happens when we replace the second-to-last line with `s[0] = s[0] + [1]`? What if we replace the line with `s[0].append(1)`?\n",
        "\n"
      ]
    },
    {
      "cell_type": "code",
      "execution_count": null,
      "metadata": {
        "id": "ZpbQIS8Zf5dv",
        "outputId": "f44d1b56-4a31-459d-ea4f-59ed389f1ba6"
      },
      "outputs": [
        {
          "name": "stdout",
          "output_type": "stream",
          "text": [
            "[0, 0, 0]\n",
            "[1, 0, 0]\n"
          ]
        }
      ],
      "source": [
        "s = [0] * 3\n",
        "print(s)\n",
        "s[0] += 1\n",
        "print(s)"
      ]
    },
    {
      "cell_type": "code",
      "execution_count": null,
      "metadata": {
        "id": "lGlThZMQ6WuR",
        "outputId": "9353fccd-2260-41fa-c148-8fe8c34eb750"
      },
      "outputs": [
        {
          "name": "stdout",
          "output_type": "stream",
          "text": [
            "['', '', '']\n",
            "['a', '', '']\n"
          ]
        }
      ],
      "source": [
        "s = [''] * 3\n",
        "print(s)\n",
        "s[0] += 'a'\n",
        "print(s)"
      ]
    },
    {
      "cell_type": "code",
      "execution_count": null,
      "metadata": {
        "id": "LWJOI1Lu6WuR",
        "outputId": "fbf8e0a2-e8db-4e8f-c0fb-6d23d87c8524"
      },
      "outputs": [
        {
          "name": "stdout",
          "output_type": "stream",
          "text": [
            "[[], [], []]\n",
            "[[1], [1], [1]]\n",
            "\n",
            "Try2\n",
            "[[], [], []]\n",
            "[[1], [], []]\n"
          ]
        }
      ],
      "source": [
        "s = [[]] * 3\n",
        "print(s)\n",
        "s[0] += [1]\n",
        "print(s)\n",
        "print(\"\\nTry2\")\n",
        "s = [[],[],[]]\n",
        "print(s)\n",
        "s[0].append(1)\n",
        "print(s)"
      ]
    },
    {
      "cell_type": "code",
      "execution_count": null,
      "metadata": {
        "id": "vt-6eMln6WuS",
        "outputId": "d24a5876-35fd-4684-aa39-8523df549b82"
      },
      "outputs": [
        {
          "name": "stdout",
          "output_type": "stream",
          "text": [
            "[1, 5, 3]\n",
            "\n",
            "Try 2 with the use of copy()\n",
            "[1, 2, 3]\n",
            "[1, 5, 3]\n"
          ]
        }
      ],
      "source": [
        "L=[1,2,3]\n",
        "M=L\n",
        "L[1]=5\n",
        "print(M)\n",
        "#here M and L point to the same LIST \n",
        "print(\"\\nTry 2 with the use of copy()\")\n",
        "L=[1,2,3]\n",
        "M=L.copy()\n",
        "L[1]=5\n",
        "print(M)\n",
        "print(L)"
      ]
    },
    {
      "cell_type": "markdown",
      "metadata": {
        "id": "FtL-aokbf5dw"
      },
      "source": [
        "### Tuples\n",
        "\n",
        "Write a function to compute the [GCD](https://en.wikipedia.org/wiki/Greatest_common_divisor) of two positive integers. You can freely use the fact that `gcd(a, b)` is mathematically equal to `gcd(b, a % b)`, and that `gcd(a, 0) == a`.\n",
        "\n",
        "```\n",
        "def gcd(a, b):\n",
        "    pass  # Your implementation here\n",
        "    \n",
        "gcd(10, 25) # => 5\n",
        "gcd(14, 15) # => 1\n",
        "gcd(3, 9) # => 3\n",
        "gcd(1, 1) # => 1\n",
        "```\n",
        "\n",
        "You can assume that `a >= b` if you'd like.\n",
        "\n",
        "It is possible to accomplish this in three lines of Python code (fewer if you're really clever). Consider exploiting tuple packing and unpacking!\n",
        "\n",
        "*Note: don't use the `gcd` in the standard library!*"
      ]
    },
    {
      "cell_type": "code",
      "execution_count": null,
      "metadata": {
        "id": "nElRRU16f5dx"
      },
      "outputs": [],
      "source": [
        "def GCD(a,b):\n",
        "    if b==0 :\n",
        "        return a \n",
        "    else :\n",
        "        return GCD(b,a%b)"
      ]
    },
    {
      "cell_type": "code",
      "execution_count": null,
      "metadata": {
        "id": "8QW8YEKW6WuS",
        "outputId": "3277b0aa-af76-46e1-f2a5-0a4cff50859f"
      },
      "outputs": [
        {
          "data": {
            "text/plain": [
              "5"
            ]
          },
          "execution_count": 2,
          "metadata": {},
          "output_type": "execute_result"
        }
      ],
      "source": [
        "GCD(15,20)"
      ]
    },
    {
      "cell_type": "code",
      "execution_count": null,
      "metadata": {
        "id": "3Kkl3v8n6WuS"
      },
      "outputs": [],
      "source": [
        "def gcd2(a,b):\n",
        "    while b:         #the same as while b!=0 :\n",
        "        a,b=b,a%b\n",
        "    return a"
      ]
    },
    {
      "cell_type": "code",
      "execution_count": null,
      "metadata": {
        "id": "GC-743Zx6WuS",
        "outputId": "410cb475-fc2f-4fa7-8a55-7abf849ec7f9"
      },
      "outputs": [
        {
          "data": {
            "text/plain": [
              "5"
            ]
          },
          "execution_count": 8,
          "metadata": {},
          "output_type": "execute_result"
        }
      ],
      "source": [
        "gcd2(15,20)"
      ]
    },
    {
      "cell_type": "markdown",
      "metadata": {
        "id": "mjtoiK3Tf5dy"
      },
      "source": [
        "## Dictionaries\n",
        "In class, we saw a (naive) implementation of a dictionary comprehension that swaps the keys and values in a dictionary:\n",
        "\n",
        "```\n",
        "{value: key for key, value in dictionary.items()}\n",
        "```\n",
        "\n",
        "However, this approach will fail when there are two keys in the dictionary with the same value.\n",
        "\n",
        "Write a function that properly reverses the keys and values of a dictionary - each key (originally a value) should map to a set of values (originally keys) that mapped to it. For example,\n",
        "\n",
        "```\n",
        "flip_dict({\"CA\": \"US\", \"NY\": \"US\", \"ON\": \"CA\"})\n",
        "# => {\"US\": [\"CA\", \"NY\"], \"CA\": [\"ON\"]}\n",
        "```\n",
        "\n",
        "Note: there is a data structure in the `collections` module from the standard library called `defaultdict` which provides exactly this sort of functionality. You provide it a factory method for creating default values in the dictionary (in this case, a list.) You can read more about `defaultdict` and other `collections` data structures [here](https://docs.python.org/3.4/library/collections.html)."
      ]
    },
    {
      "cell_type": "code",
      "execution_count": null,
      "metadata": {
        "id": "43zczivwf5d0"
      },
      "outputs": [],
      "source": [
        "def flip_dict(dic):\n",
        "    out={}\n",
        "    for key,val in dic.items():\n",
        "        if val not in out :\n",
        "            out[val]=[]\n",
        "        out[val].append(key)                  \n",
        "    return out"
      ]
    },
    {
      "cell_type": "code",
      "execution_count": null,
      "metadata": {
        "id": "0BLNXAvN6WuT",
        "outputId": "f06d69b3-e2df-4c87-a02a-b7a8f526300a"
      },
      "outputs": [
        {
          "data": {
            "text/plain": [
              "{'US': ['CA', 'NY'], 'CA': ['ON']}"
            ]
          },
          "execution_count": 10,
          "metadata": {},
          "output_type": "execute_result"
        }
      ],
      "source": [
        "flip_dict({\"CA\": \"US\", \"NY\": \"US\", \"ON\": \"CA\"})"
      ]
    },
    {
      "cell_type": "markdown",
      "metadata": {
        "id": "uuIz1ZuPf5d1"
      },
      "source": [
        "### Comprehensions\n",
        "\n",
        "*Read*\n",
        "\n",
        "Predict the output of each of the following list comprehensions. After you have written down your hypothesis, run the code in an interactive interpreter to see if you were correct. If you were incorrect, discuss with a partner why Python returns what it does.\n",
        "\n",
        "```\n",
        "[x for x in [1, 2, 3, 4]]\n",
        "[n - 2 for n in range(10)]\n",
        "[k % 10 for k in range(41) if k % 3 == 0]\n",
        "[s.lower() for s in ['PythOn', 'iS', 'cOoL'] if s[0] < s[-1]]\n",
        "\n",
        "# Something is fishy here. Can you spot it?\n",
        "arr = [[3,2,1], ['a','b','c'], [('do',), ['re'], 'mi']]\n",
        "print([el.append(el[0] * 4) for el in arr])  # What is printed?\n",
        "print(arr)  # What is the content of `arr` at this point?\n",
        "\n",
        "\n",
        "[letter for letter in \"pYthON\" if letter.isupper()]\n",
        "{len(w) for w in [\"its\", \"the\", \"remix\", \"to\", \"ignition\"]}\n",
        "```\n",
        "\n",
        "*Write*\n",
        "\n",
        "Write a comprehension to transform the input data structure into the output data structure\n",
        "\n",
        "```\n",
        "[0, 1, 2, 3] -> [1, 3, 5, 7]  # Double and add one\n",
        "['apple', 'orange', 'pear'] -> ['A', 'O', 'P']  # Capitalize first letter\n",
        "['apple', 'orange', 'pear'] -> ['apple', 'pear']  # Contains a 'p'\n",
        "\n",
        "[\"TA_sam\", \"student_poohbear\", \"TA_guido\", \"student_htiek\"] -> [\"sam\", \"guido\"]\n",
        "['apple', 'orange', 'pear'] -> [('apple', 5), ('orange', 6), ('pear', 4)]\n",
        "\n",
        "['apple', 'orange', 'pear'] -> {'apple': 5, 'orange': 6, 'pear': 4}\n",
        "```"
      ]
    },
    {
      "cell_type": "markdown",
      "metadata": {
        "id": "DRnjF8a0f5d1"
      },
      "source": []
    },
    {
      "cell_type": "markdown",
      "metadata": {
        "id": "TvVDDN4Uf5d2"
      },
      "source": [
        "### Pascal's Triangle\n",
        "Write a function that generates the next level of Pascal's triangle given a list that represents a valid row of Pascal’s triangle.\n",
        "\n",
        "```\n",
        "generate_pascal_row([1, 2, 1]) -> [1, 3, 3, 1]\n",
        "generate_pascal_row([1, 4, 6, 4, 1]) -> [1, 5, 10, 10, 5, 1]\n",
        "generate_pascal_row([]) -> [1]\n",
        "```\n",
        "\n",
        "As a reminder, each element in a row of Pascal's triangle is formed by summing the two elements in the previous row directly above (to the left and right) that elements. If there is only one element directly above, we only add that one. For example, the first 5 rows of Pascal's triangle look like:\n",
        "\n",
        "```\n",
        "    1\n",
        "   1 1\n",
        "  1 2 1\n",
        " 1 3 3 1\n",
        "1 4 6 4 1\n",
        "```\n",
        "\n",
        "You may find the `zip` function discussed briefly in lecture useful, along with some cleverness. Alternatively, you could solve this problem with `enumerate`. Avoid using a loop of the form `for i in len(range(row)):`.\n",
        "\n",
        "*Hint: Check out the diagram below. How could you use this insight to help complete this problem?*\n",
        "\n",
        "```\n",
        "  0 1 3 3 1\n",
        "+ 1 3 3 1 0\n",
        "-----------\n",
        "  1 4 6 4 1\n",
        "``` "
      ]
    },
    {
      "cell_type": "code",
      "execution_count": null,
      "metadata": {
        "id": "uyIpP-2Vf5d3"
      },
      "outputs": [],
      "source": []
    },
    {
      "cell_type": "markdown",
      "metadata": {
        "id": "9zrhMXYtf5d3"
      },
      "source": [
        "### Triad Phrases\n",
        "\n",
        "Triad words are English words for which the two smaller strings you make by extracting alternating letters both form valid words.\n",
        "\n",
        "For example:\n",
        "\n",
        "![Triad Phrases](http://i.imgur.com/jGEXJWi.png)\n",
        "\n",
        "Write a function to determine whether an entire phrase passed into a function is made of triad words. You can assume that all words are made of only alphabetic characters, and are separated by whitespace. We will consider the empty string to be an invalid English word.\n",
        "\n",
        "```\n",
        "is_triad_phrase(\"learned theorem\") # => True\n",
        "is_triad_phrase(\"studied theories\") # => False\n",
        "is_triad_phrase(\"wooded agrarians\") # => True\n",
        "is_triad_phrase(\"forrested farmers\") # => False\n",
        "is_triad_phrase(\"schooled oriole\") # => True\n",
        "is_triad_phrase(\"educated small bird\") # => False\n",
        "is_triad_phrase(\"a\") # => False\n",
        "is_triad_phrase(\"\") # => False\n",
        "```\n",
        "\n",
        "What would be an appropriate data structure in which to store the English words?\n",
        "\n",
        "Using either `/usr/share/dict/words` or `http://stanfordpython.com/res/misc/words`, a 2.5M text file containing over 200 thousand English words, which are triad words? As a sanity check, we found 2770 distinct triad words (case-insensitive).\n"
      ]
    },
    {
      "cell_type": "markdown",
      "metadata": {
        "id": "uHZeVOGjf5d4"
      },
      "source": []
    },
    {
      "cell_type": "markdown",
      "metadata": {
        "id": "LgKlEop8f5d4"
      },
      "source": [
        "### Surpassing Phrases (challenge)\n",
        "\n",
        "Surpassing words are English words for which the gap between each adjacent pair of letters strictly increases. These gaps are computed without \"wrapping around\" from Z to A.\n",
        "\n",
        "For example:\n",
        "\n",
        "![Surpassing Phrases](http://i.imgur.com/XKiCnUc.png)\n",
        "\n",
        "Write a function to determine whether an entire phrase passed into a function is made of surpassing words. You can assume that all words are made of only alphabetic characters, and are separated by whitespace. We will consider the empty string and a 1-character string to be valid surpassing phrases.\n",
        "\n",
        "```\n",
        "is_surpassing_phrase(\"superb subway\") # => True\n",
        "is_surpassing_phrase(\"excellent train\") # => False\n",
        "is_surpassing_phrase(\"porky hogs\") # => True\n",
        "is_surpassing_phrase(\"plump pigs\") # => False\n",
        "is_surpassing_phrase(\"turnip fields\") # => True\n",
        "is_surpassing_phrase(\"root vegetable lands\") # => False\n",
        "is_surpassing_phrase(\"a\") # => True\n",
        "is_surpassing_phrase(\"\") # => True\n",
        "```\n",
        "\n",
        "You may find the Python functions `ord` (one-character string to integer ordinal) and `chr` (integer ordinal to one-character string) useful to solve this puzzle.\n",
        "\n",
        "```\n",
        "ord('a') # => 97\n",
        "chr(97) # => 'a'\n",
        "```\n",
        "\n",
        "Using either `/usr/share/dict/words` or `http://stanfordpython.com/res/misc/words`, which are surpassing words? As a sanity check, we found 1931 distinct surpassing words."
      ]
    },
    {
      "cell_type": "markdown",
      "metadata": {
        "id": "pulsB0-Hf5d5"
      },
      "source": []
    },
    {
      "cell_type": "markdown",
      "metadata": {
        "id": "nc3l8jWnf5d5"
      },
      "source": [
        "### Cyclone Phrases (challenge)\n",
        "\n",
        "Cyclone words are English words that have a sequence of characters in alphabetical order when following a cyclic pattern. \n",
        "\n",
        "For example:\n",
        "\n",
        "![Cyclone Phrases](http://i.stack.imgur.com/4XBV3.png)\n",
        "\n",
        "Write a function that to determine whether an entire phrase passed into a function is made of cyclone words. You can assume that all words are made of only alphabetic characters, and are separated by whitespace.\n",
        "\n",
        "```\n",
        "is_cyclone_phrase(\"adjourned\") # => True\n",
        "is_cyclone_phrase(\"settled\") # => False\n",
        "is_cyclone_phrase(\"all alone at noon\") # => True\n",
        "is_cyclone_phrase(\"by myself at twelve pm\") # => False\n",
        "is_cyclone_phrase(\"acb\") # => True\n",
        "is_cyclone_phrase(\"\") # => True\n",
        "```\n",
        "\n",
        "Using either `/usr/share/dict/words` or `http://stanfordpython.com/res/misc/words`, which are cyclone words? As a sanity check, we found 769 distinct cyclone words."
      ]
    },
    {
      "cell_type": "markdown",
      "metadata": {
        "id": "PmwuZDxkf5d6"
      },
      "source": []
    },
    {
      "cell_type": "markdown",
      "metadata": {
        "id": "z6KyNHykf5d7"
      },
      "source": [
        "### Triangle Numbers\n",
        "The nth term of the sequence of triangle numbers is given by 1 + 2 + ... + n = n(n+1) / 2. For example, the first ten triangle numbers are: `1, 3, 6, 10, 15, 21, 28, 36, 45, 55, ...`\n",
        "\n",
        "By converting each letter in a word to a number corresponding to its alphabetical position (`A=1`, `B=2`, etc) and adding these values we form a word value. For example, the word value for SKY is `19 + 11 + 25 = 55` and 55 is a triangle number. If the word value is a triangle number then we shall call the word a triangle word.\n",
        "\n",
        "Using either `/usr/share/dict/words` or `http://stanfordpython.com/res/misc/words`, which are triangle words? As a sanity check, we found 16303 distinct triangle words.\n",
        "\n",
        "*Hint: you can use `ord(ch)` to get the integer ASCII value of a character*\n",
        "\n",
        "## Bonus Problems\n",
        "\n",
        "*Only attempt to solve these bonus problems if you've finished the rest of the lab. Bonus problems are intentionally much harder than the other lab problems.*\n",
        "\n",
        "### Polygon Collision\n",
        "\n",
        "Given two polygons in the form of lists of 2-tuples, determine whether the two polygons intersect.\n",
        "\n",
        "```\n",
        "def polygon_collision(poly1, poly2):\n",
        "    pass\n",
        "```\n",
        "\n",
        "Formally, a polygon is represented by a list of (x, y) tuples, where each (x, y) tuple is a vertex of the polygon. Edges are assumed to be between adjacent vertices in the list, and the last vertex is connected to the first. For example, the unit square would be represented by\n",
        "\n",
        "```\n",
        "square = [(0,0), (0,1), (1,1), (1,0)]\n",
        "```\n",
        "\n",
        "You can assume that the polygon described by the provided list of tuples is not self-intersecting, but do not assume that it is convex.\n",
        "\n",
        "**Note: this is a *hard* problem. Quite hard.**"
      ]
    },
    {
      "cell_type": "markdown",
      "metadata": {
        "id": "OTdTC7M1f5d8"
      },
      "source": []
    }
  ],
  "metadata": {
    "colab": {
      "provenance": [],
      "include_colab_link": true
    },
    "kernelspec": {
      "display_name": "Python 3.9.12 ('base')",
      "language": "python",
      "name": "python3"
    },
    "language_info": {
      "codemirror_mode": {
        "name": "ipython",
        "version": 3
      },
      "file_extension": ".py",
      "mimetype": "text/x-python",
      "name": "python",
      "nbconvert_exporter": "python",
      "pygments_lexer": "ipython3",
      "version": "3.9.12"
    },
    "orig_nbformat": 4,
    "vscode": {
      "interpreter": {
        "hash": "a077222d77dfe082b8f1dd562ad70e458ac2ab76993a0b248ab0476e32e9e8dd"
      }
    }
  },
  "nbformat": 4,
  "nbformat_minor": 0
}