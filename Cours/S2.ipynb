{
 "cells": [
  {
   "attachments": {},
   "cell_type": "markdown",
   "metadata": {},
   "source": [
    "# Control Flow, Addendum"
   ]
  },
  {
   "cell_type": "code",
   "execution_count": 1,
   "metadata": {},
   "outputs": [
    {
     "ename": "ValueError",
     "evalue": "invalid literal for int() with base 10: 'a dozen'",
     "output_type": "error",
     "traceback": [
      "\u001b[0;31m---------------------------------------------------------------------------\u001b[0m",
      "\u001b[0;31mValueError\u001b[0m                                Traceback (most recent call last)",
      "\u001b[0;32m/tmp/ipykernel_3059/3354821117.py\u001b[0m in \u001b[0;36m<module>\u001b[0;34m\u001b[0m\n\u001b[0;32m----> 1\u001b[0;31m \u001b[0mn\u001b[0m \u001b[0;34m=\u001b[0m \u001b[0mint\u001b[0m\u001b[0;34m(\u001b[0m\u001b[0minput\u001b[0m\u001b[0;34m(\u001b[0m\u001b[0;34m'How many unicorns would you like? '\u001b[0m\u001b[0;34m)\u001b[0m\u001b[0;34m)\u001b[0m\u001b[0;34m\u001b[0m\u001b[0;34m\u001b[0m\u001b[0m\n\u001b[0m",
      "\u001b[0;31mValueError\u001b[0m: invalid literal for int() with base 10: 'a dozen'"
     ]
    }
   ],
   "source": [
    "n = int(input('How many unicorns would you like? '))"
   ]
  },
  {
   "cell_type": "code",
   "execution_count": 2,
   "metadata": {},
   "outputs": [
    {
     "data": {
      "text/plain": [
       "12"
      ]
     },
     "execution_count": 2,
     "metadata": {},
     "output_type": "execute_result"
    }
   ],
   "source": [
    "n\n"
   ]
  },
  {
   "cell_type": "code",
   "execution_count": 2,
   "metadata": {},
   "outputs": [
    {
     "name": "stdout",
     "output_type": "stream",
     "text": [
      "Invalid input. Try again...\n"
     ]
    }
   ],
   "source": [
    "while True:\n",
    "    try:\n",
    "        n = int(input('How many unicorns would you like? '))\n",
    "        break\n",
    "    except ValueError:\n",
    "        print(\"Invalid input. Try again...\")"
   ]
  },
  {
   "cell_type": "code",
   "execution_count": 11,
   "metadata": {},
   "outputs": [
    {
     "name": "stdout",
     "output_type": "stream",
     "text": [
      " write yes or No\n",
      " write yes or No\n"
     ]
    }
   ],
   "source": [
    "while (answer := input(\"Yes/No? \")) not in ['Yes','No']:\n",
    "    print(\" write yes or No\")"
   ]
  },
  {
   "cell_type": "code",
   "execution_count": null,
   "metadata": {},
   "outputs": [],
   "source": [
    "while (answer := input(\"Yes/No? \"))[0] not in 'YyNn':\n",
    "    print(\"Please type a phrase that begins with 'Y' or 'N'.\")"
   ]
  },
  {
   "cell_type": "code",
   "execution_count": null,
   "metadata": {},
   "outputs": [],
   "source": [
    "answer"
   ]
  },
  {
   "cell_type": "code",
   "execution_count": null,
   "metadata": {},
   "outputs": [],
   "source": [
    "while (answer := input(\"Enter a palindrome: \")) != answer[::-1]:\n",
    "    print(\"That wasn't a palindrome!\")"
   ]
  },
  {
   "cell_type": "code",
   "execution_count": null,
   "metadata": {},
   "outputs": [],
   "source": [
    "answer"
   ]
  },
  {
   "cell_type": "code",
   "execution_count": null,
   "metadata": {},
   "outputs": [],
   "source": [
    "captains = ['Kirk', 'Picard']\n",
    "\"{caps[0]} > {caps[1]}\".format(caps=captains)"
   ]
  },
  {
   "cell_type": "code",
   "execution_count": null,
   "metadata": {},
   "outputs": [],
   "source": [
    "age=20\n",
    "# String concatenation with +\n",
    "\"I am \" + str(age) + \" years old.\"\n"
   ]
  },
  {
   "cell_type": "code",
   "execution_count": null,
   "metadata": {},
   "outputs": [],
   "source": [
    "# Formatted string literals (only on Python 3.6+)\n",
    "f\"I am {age} years old.\"\n"
   ]
  },
  {
   "cell_type": "code",
   "execution_count": null,
   "metadata": {},
   "outputs": [],
   "source": [
    "f\"{', '.join(['Zheng', 'Antonio', 'Sam'])} are awesome!\""
   ]
  },
  {
   "cell_type": "code",
   "execution_count": null,
   "metadata": {},
   "outputs": [],
   "source": [
    "locals()"
   ]
  },
  {
   "cell_type": "code",
   "execution_count": null,
   "metadata": {},
   "outputs": [],
   "source": [
    "globals()"
   ]
  },
  {
   "cell_type": "code",
   "execution_count": 26,
   "metadata": {},
   "outputs": [
    {
     "name": "stdout",
     "output_type": "stream",
     "text": [
      "Lancelot: Wins 100.00%\n",
      "Galahad: Wins 36.84%\n",
      "Geraint: Wins 75.00%\n",
      "Mordred: Wins 28.57%\n"
     ]
    }
   ],
   "source": [
    "f = open('knights.txt')\n",
    "for line in f:\n",
    "    data = line.split()\n",
    "\n",
    "    name = data[0]\n",
    "    wins = int(data[1])\n",
    "    losses = int(data[2])\n",
    "    win_percent = 100 * wins / (wins + losses)\n",
    "    print(f\"{name}: Wins {win_percent:.2f}%\")\n",
    "f.close()"
   ]
  },
  {
   "cell_type": "code",
   "execution_count": 23,
   "metadata": {},
   "outputs": [],
   "source": [
    "f.close()"
   ]
  },
  {
   "cell_type": "code",
   "execution_count": 25,
   "metadata": {},
   "outputs": [
    {
     "name": "stdout",
     "output_type": "stream",
     "text": [
      "Lancelot: Wins 100.00%\n",
      "Galahad: Wins 36.84%\n",
      "Geraint: Wins 75.00%\n",
      "Mordred: Wins 28.57%\n"
     ]
    }
   ],
   "source": [
    "\n",
    "with open('knights.txt') as f:\n",
    "    for line in f:\n",
    "        data = line.split()\n",
    "        name = data[0]\n",
    "        wins = int(data[1])\n",
    "        losses = int(data[2])\n",
    "        win_percent = 100 * wins / (wins + losses)\n",
    "        print(f\"{name}: Wins {win_percent:.2f}%\")\n",
    "    f.close()"
   ]
  },
  {
   "cell_type": "code",
   "execution_count": 3,
   "metadata": {},
   "outputs": [],
   "source": [
    "def somme(x,y):\n",
    "    return x+y"
   ]
  },
  {
   "cell_type": "code",
   "execution_count": 4,
   "metadata": {},
   "outputs": [
    {
     "data": {
      "text/plain": [
       "7"
      ]
     },
     "execution_count": 4,
     "metadata": {},
     "output_type": "execute_result"
    }
   ],
   "source": [
    "somme(3,4)"
   ]
  },
  {
   "cell_type": "code",
   "execution_count": 6,
   "metadata": {},
   "outputs": [
    {
     "data": {
      "text/plain": [
       "11"
      ]
     },
     "execution_count": 6,
     "metadata": {},
     "output_type": "execute_result"
    }
   ],
   "source": [
    "(lambda x,y:x+y)(5,6)"
   ]
  },
  {
   "cell_type": "code",
   "execution_count": 7,
   "metadata": {},
   "outputs": [],
   "source": [
    "f= lambda x,y,z:x+y*z"
   ]
  },
  {
   "cell_type": "code",
   "execution_count": 8,
   "metadata": {},
   "outputs": [
    {
     "data": {
      "text/plain": [
       "2"
      ]
     },
     "execution_count": 8,
     "metadata": {},
     "output_type": "execute_result"
    }
   ],
   "source": [
    "f(1,1,1)"
   ]
  },
  {
   "cell_type": "code",
   "execution_count": 9,
   "metadata": {},
   "outputs": [],
   "source": [
    "sig=lambda x:1 if x>=0 else -1"
   ]
  },
  {
   "cell_type": "code",
   "execution_count": 10,
   "metadata": {},
   "outputs": [
    {
     "data": {
      "text/plain": [
       "-1"
      ]
     },
     "execution_count": 10,
     "metadata": {},
     "output_type": "execute_result"
    }
   ],
   "source": [
    "sig(-5)"
   ]
  },
  {
   "cell_type": "code",
   "execution_count": 12,
   "metadata": {},
   "outputs": [
    {
     "data": {
      "text/plain": [
       "{'__name__': '__main__',\n",
       " '__doc__': 'Automatically created module for IPython interactive environment',\n",
       " '__package__': None,\n",
       " '__loader__': None,\n",
       " '__spec__': None,\n",
       " '__builtin__': <module 'builtins' (built-in)>,\n",
       " '__builtins__': <module 'builtins' (built-in)>,\n",
       " '_ih': ['',\n",
       "  \"n = int(input('How many unicorns would you like? '))\",\n",
       "  'while True:\\n    try:\\n        n = int(input(\\'How many unicorns would you like? \\'))\\n        break\\n    except ValueError:\\n        print(\"Invalid input. Try again...\")',\n",
       "  'def somme(x,y):\\n    return x+y',\n",
       "  'somme(3,4)',\n",
       "  'lambda x,y:x+y',\n",
       "  '(lambda x,y:x+y)(5,6)',\n",
       "  'f= lambda x,y,z:x+y*z',\n",
       "  'f(1,1,1)',\n",
       "  'sig=lambda x:1 if x>=0 else -1',\n",
       "  'sig(-5)',\n",
       "  'while (answer := input(\"Yes/No? \")) not in [\\'Yes\\',\\'No\\']:\\n    print(\" write yes or No\")',\n",
       "  'locals()'],\n",
       " '_oh': {4: 7, 5: <function __main__.<lambda>(x, y)>, 6: 11, 8: 2, 10: -1},\n",
       " '_dh': ['/home/nevermind/Desktop/Python/Cours'],\n",
       " 'In': ['',\n",
       "  \"n = int(input('How many unicorns would you like? '))\",\n",
       "  'while True:\\n    try:\\n        n = int(input(\\'How many unicorns would you like? \\'))\\n        break\\n    except ValueError:\\n        print(\"Invalid input. Try again...\")',\n",
       "  'def somme(x,y):\\n    return x+y',\n",
       "  'somme(3,4)',\n",
       "  'lambda x,y:x+y',\n",
       "  '(lambda x,y:x+y)(5,6)',\n",
       "  'f= lambda x,y,z:x+y*z',\n",
       "  'f(1,1,1)',\n",
       "  'sig=lambda x:1 if x>=0 else -1',\n",
       "  'sig(-5)',\n",
       "  'while (answer := input(\"Yes/No? \")) not in [\\'Yes\\',\\'No\\']:\\n    print(\" write yes or No\")',\n",
       "  'locals()'],\n",
       " 'Out': {4: 7, 5: <function __main__.<lambda>(x, y)>, 6: 11, 8: 2, 10: -1},\n",
       " 'get_ipython': <bound method InteractiveShell.get_ipython of <ipykernel.zmqshell.ZMQInteractiveShell object at 0x7f6d43d5f790>>,\n",
       " 'exit': <IPython.core.autocall.ZMQExitAutocall at 0x7f6d43cd41c0>,\n",
       " 'quit': <IPython.core.autocall.ZMQExitAutocall at 0x7f6d43cd41c0>,\n",
       " '_': -1,\n",
       " '__': 2,\n",
       " '___': 11,\n",
       " '__vsc_ipynb_file__': '/home/nevermind/Desktop/Python/Cours/S2.ipynb',\n",
       " '_i': 'while (answer := input(\"Yes/No? \")) not in [\\'Yes\\',\\'No\\']:\\n    print(\" write yes or No\")',\n",
       " '_ii': 'sig(-5)',\n",
       " '_iii': 'sig=lambda x:1 if x>=0 else -1',\n",
       " '_i1': \"n = int(input('How many unicorns would you like? '))\",\n",
       " '_i2': 'while True:\\n    try:\\n        n = int(input(\\'How many unicorns would you like? \\'))\\n        break\\n    except ValueError:\\n        print(\"Invalid input. Try again...\")',\n",
       " 'n': 1,\n",
       " '_i3': 'def somme(x,y):\\n    return x+y',\n",
       " 'somme': <function __main__.somme(x, y)>,\n",
       " '_i4': 'somme(3,4)',\n",
       " '_4': 7,\n",
       " '_i5': 'lambda x,y:x+y',\n",
       " '_5': <function __main__.<lambda>(x, y)>,\n",
       " '_i6': '(lambda x,y:x+y)(5,6)',\n",
       " '_6': 11,\n",
       " '_i7': 'f= lambda x,y,z:x+y*z',\n",
       " 'f': <function __main__.<lambda>(x, y, z)>,\n",
       " '_i8': 'f(1,1,1)',\n",
       " '_8': 2,\n",
       " '_i9': 'sig=lambda x:1 if x>=0 else -1',\n",
       " 'sig': <function __main__.<lambda>(x)>,\n",
       " '_i10': 'sig(-5)',\n",
       " '_10': -1,\n",
       " '_i11': 'while (answer := input(\"Yes/No? \")) not in [\\'Yes\\',\\'No\\']:\\n    print(\" write yes or No\")',\n",
       " 'answer': 'Yes',\n",
       " '_i12': 'locals()'}"
      ]
     },
     "execution_count": 12,
     "metadata": {},
     "output_type": "execute_result"
    }
   ],
   "source": [
    "locals()"
   ]
  },
  {
   "cell_type": "code",
   "execution_count": null,
   "metadata": {},
   "outputs": [],
   "source": []
  }
 ],
 "metadata": {
  "kernelspec": {
   "display_name": "base",
   "language": "python",
   "name": "python3"
  },
  "language_info": {
   "codemirror_mode": {
    "name": "ipython",
    "version": 3
   },
   "file_extension": ".py",
   "mimetype": "text/x-python",
   "name": "python",
   "nbconvert_exporter": "python",
   "pygments_lexer": "ipython3",
   "version": "3.9.13"
  },
  "orig_nbformat": 4,
  "vscode": {
   "interpreter": {
    "hash": "dd2f083c7091592f6e910b42e81e3d9326587f6134c1427a9ed8e8691fd16a23"
   }
  }
 },
 "nbformat": 4,
 "nbformat_minor": 2
}
