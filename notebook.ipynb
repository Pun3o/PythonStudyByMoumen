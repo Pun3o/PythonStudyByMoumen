{
  "cells": [
    {
      "cell_type": "markdown",
      "metadata": {
        "id": "view-in-github",
        "colab_type": "text"
      },
      "source": [
        "<a href=\"https://colab.research.google.com/github/Pun3o/PythonStudiesByMoumen/blob/main/notebook.ipynb\" target=\"_parent\"><img src=\"https://colab.research.google.com/assets/colab-badge.svg\" alt=\"Open In Colab\"/></a>"
      ]
    },
    {
      "cell_type": "markdown",
      "metadata": {
        "id": "sOSFXR-J8UCh"
      },
      "source": [
        "***********************************************************************************************************************************************\n",
        "<h1>Trying Python Tutor</h1>"
      ]
    },
    {
      "cell_type": "code",
      "execution_count": null,
      "metadata": {
        "id": "dHXdzuFM8UCk"
      },
      "outputs": [],
      "source": [
        "#pip install tutormagic\n"
      ]
    },
    {
      "cell_type": "code",
      "execution_count": null,
      "metadata": {
        "id": "Qj9sWilM8UCl"
      },
      "outputs": [],
      "source": [
        "%load_ext tutormagic"
      ]
    },
    {
      "cell_type": "code",
      "execution_count": null,
      "metadata": {
        "id": "V0IHd9df8UCm",
        "outputId": "200c2413-468e-40f2-aa48-59ec238dc110"
      },
      "outputs": [
        {
          "data": {
            "text/html": [
              "\n",
              "        <iframe\n",
              "            width=\"100%\"\n",
              "            height=\"350\"\n",
              "            src=\"http://pythontutor.com/iframe-embed.html#code=A%3D%5B1%2C2%2C3%5D%0AB%3DA.copy%28%29%0AA%5B0%5D%3D2023%0Aprint%28B%29%0A&origin=opt-frontend.js&cumulative=false&heapPrimitives=false&textReferences=false&curInstr=0&&verticalStack=false&py=3&rawInputLstJSON=%5B%5D&codeDivWidth=50%25&codeDivHeight=100%25\"\n",
              "            frameborder=\"0\"\n",
              "            allowfullscreen\n",
              "            \n",
              "        ></iframe>\n",
              "        "
            ],
            "text/plain": [
              "<IPython.lib.display.IFrame at 0x1ea1d01de50>"
            ]
          },
          "metadata": {},
          "output_type": "display_data"
        }
      ],
      "source": [
        "%%tutor --lang python3\n",
        "A=[1,2,3]\n",
        "B=A.copy()    #or B=A[:]\n",
        "A[0]=2023\n",
        "print(B)"
      ]
    },
    {
      "cell_type": "code",
      "execution_count": null,
      "metadata": {
        "id": "LTBpRE7h8UCm",
        "outputId": "628bcc1a-1911-4b9d-fd02-96a6bd77e39b"
      },
      "outputs": [
        {
          "data": {
            "text/html": [
              "\n",
              "        <iframe\n",
              "            width=\"100%\"\n",
              "            height=\"350\"\n",
              "            src=\"http://pythontutor.com/iframe-embed.html#code=A%3D%5B1%2C2%2C3%5D%0AB%3DA%0AA.append%285%29%0Aprint%28B%29%0A&origin=opt-frontend.js&cumulative=false&heapPrimitives=false&textReferences=false&curInstr=0&&verticalStack=false&py=3&rawInputLstJSON=%5B%5D&codeDivWidth=50%25&codeDivHeight=100%25\"\n",
              "            frameborder=\"0\"\n",
              "            allowfullscreen\n",
              "            \n",
              "        ></iframe>\n",
              "        "
            ],
            "text/plain": [
              "<IPython.lib.display.IFrame at 0x1ea1e130040>"
            ]
          },
          "metadata": {},
          "output_type": "display_data"
        }
      ],
      "source": [
        "%%tutor --lang python3\n",
        "A=[1,2,3]\n",
        "B=A\n",
        "A.append(5)\n",
        "print(B)"
      ]
    },
    {
      "cell_type": "code",
      "execution_count": null,
      "metadata": {
        "id": "g4vyDISm8UCn",
        "outputId": "4daaf51f-ca1d-4aba-efa0-ba3dacbe8734"
      },
      "outputs": [
        {
          "data": {
            "text/html": [
              "\n",
              "        <iframe\n",
              "            width=\"100%\"\n",
              "            height=\"350\"\n",
              "            src=\"http://pythontutor.com/iframe-embed.html#code=x%3D%27abc%27%0Ay%3Dx%0Ax%3Dx%2B%27z%27%0Aprint%28y%29%0A&origin=opt-frontend.js&cumulative=false&heapPrimitives=false&textReferences=false&curInstr=0&&verticalStack=false&py=3&rawInputLstJSON=%5B%5D&codeDivWidth=50%25&codeDivHeight=100%25\"\n",
              "            frameborder=\"0\"\n",
              "            allowfullscreen\n",
              "            \n",
              "        ></iframe>\n",
              "        "
            ],
            "text/plain": [
              "<IPython.lib.display.IFrame at 0x1ea1d0082e0>"
            ]
          },
          "metadata": {},
          "output_type": "display_data"
        }
      ],
      "source": [
        "%%tutor --lang python3\n",
        "x='abc'\n",
        "y=x\n",
        "x=x+'z'\n",
        "print(y)"
      ]
    },
    {
      "cell_type": "code",
      "execution_count": null,
      "metadata": {
        "id": "8vO69k9u8UCn",
        "outputId": "db2a4996-1225-4e01-8a02-c6b08b755266"
      },
      "outputs": [
        {
          "data": {
            "text/html": [
              "\n",
              "        <iframe\n",
              "            width=\"100%\"\n",
              "            height=\"350\"\n",
              "            src=\"http://pythontutor.com/iframe-embed.html#code=%23tuples%0At%3D%281%2C2%2C3%29%0Ay%3Dt%20%0At%3Dt%2B%284%2C5%29%0Aprint%28y%29%0A&origin=opt-frontend.js&cumulative=false&heapPrimitives=false&textReferences=false&curInstr=0&&verticalStack=false&py=3&rawInputLstJSON=%5B%5D&codeDivWidth=50%25&codeDivHeight=100%25\"\n",
              "            frameborder=\"0\"\n",
              "            allowfullscreen\n",
              "            \n",
              "        ></iframe>\n",
              "        "
            ],
            "text/plain": [
              "<IPython.lib.display.IFrame at 0x1ea1d008160>"
            ]
          },
          "metadata": {},
          "output_type": "display_data"
        }
      ],
      "source": [
        "%%tutor --lang python3\n",
        "#tuples\n",
        "t=(1,2,3)\n",
        "y=t \n",
        "t=t+(4,5)\n",
        "print(y)"
      ]
    },
    {
      "cell_type": "code",
      "execution_count": null,
      "metadata": {
        "id": "_qI9B_7c8UCn",
        "outputId": "e0b5149d-28bf-44d5-9221-5e025a0975de"
      },
      "outputs": [
        {
          "data": {
            "text/html": [
              "\n",
              "        <iframe\n",
              "            width=\"100%\"\n",
              "            height=\"350\"\n",
              "            src=\"http://pythontutor.com/iframe-embed.html#code=%23same%20as%20the%20previous%20but%20with%20lists%0At%3D%5B1%2C2%2C3%5D%0Ay%3Dt%20%0At%3Dt%2B%5B4%2C5%5D%0Aprint%28y%29%0A&origin=opt-frontend.js&cumulative=false&heapPrimitives=false&textReferences=false&curInstr=0&&verticalStack=false&py=3&rawInputLstJSON=%5B%5D&codeDivWidth=50%25&codeDivHeight=100%25\"\n",
              "            frameborder=\"0\"\n",
              "            allowfullscreen\n",
              "            \n",
              "        ></iframe>\n",
              "        "
            ],
            "text/plain": [
              "<IPython.lib.display.IFrame at 0x1ea1d01d3a0>"
            ]
          },
          "metadata": {},
          "output_type": "display_data"
        }
      ],
      "source": [
        "%%tutor --lang python3\n",
        "#same as the previous but with lists\n",
        "t=[1,2,3]\n",
        "y=t \n",
        "t=t+[4,5]\n",
        "print(y)"
      ]
    },
    {
      "cell_type": "code",
      "execution_count": null,
      "metadata": {
        "id": "HsynBzpd8UCo",
        "outputId": "89e1db8b-79ef-4166-ddb4-3d7de3ae6d80"
      },
      "outputs": [
        {
          "data": {
            "text/html": [
              "\n",
              "        <iframe\n",
              "            width=\"100%\"\n",
              "            height=\"350\"\n",
              "            src=\"http://pythontutor.com/iframe-embed.html#code=%23extend%0At%3D%5B1%2C2%2C3%5D%0Ay%3Dt%0At.extend%28%5B4%2C5%5D%29%0Aprint%28y%29%0A&origin=opt-frontend.js&cumulative=false&heapPrimitives=false&textReferences=false&curInstr=0&&verticalStack=false&py=3&rawInputLstJSON=%5B%5D&codeDivWidth=50%25&codeDivHeight=100%25\"\n",
              "            frameborder=\"0\"\n",
              "            allowfullscreen\n",
              "            \n",
              "        ></iframe>\n",
              "        "
            ],
            "text/plain": [
              "<IPython.lib.display.IFrame at 0x1ea1e24b3a0>"
            ]
          },
          "metadata": {},
          "output_type": "display_data"
        }
      ],
      "source": [
        "%%tutor --lang python3\n",
        "#extend\n",
        "t=[1,2,3]\n",
        "y=t\n",
        "t.extend([4,5])\n",
        "print(y)"
      ]
    },
    {
      "cell_type": "code",
      "execution_count": null,
      "metadata": {
        "id": "YMLQEmRJ8UCo",
        "outputId": "3508f5f6-06fc-4c03-e83c-3a8be3c675ad"
      },
      "outputs": [
        {
          "data": {
            "text/html": [
              "\n",
              "        <iframe\n",
              "            width=\"100%\"\n",
              "            height=\"350\"\n",
              "            src=\"http://pythontutor.com/iframe-embed.html#code=a%3D1%0Ab%3Da%20%0Aprint%28id%28a%29%2C%22%20%20%20%22%2Cid%28b%29%29%0Aa%3Da%2B1%0Aprint%28id%28a%29%2C%22%20%20%20%22%2Cid%28b%29%29%0A&origin=opt-frontend.js&cumulative=false&heapPrimitives=false&textReferences=false&curInstr=0&&verticalStack=false&py=3&rawInputLstJSON=%5B%5D&codeDivWidth=50%25&codeDivHeight=100%25\"\n",
              "            frameborder=\"0\"\n",
              "            allowfullscreen\n",
              "            \n",
              "        ></iframe>\n",
              "        "
            ],
            "text/plain": [
              "<IPython.lib.display.IFrame at 0x1ea18382460>"
            ]
          },
          "metadata": {},
          "output_type": "display_data"
        }
      ],
      "source": [
        "%%tutor --lang python3\n",
        "a=1\n",
        "b=a \n",
        "print(id(a),\"   \",id(b))\n",
        "a=a+1\n",
        "print(id(a),\"   \",id(b))"
      ]
    },
    {
      "cell_type": "code",
      "execution_count": null,
      "metadata": {
        "id": "ORqHWTd78UCp",
        "outputId": "26d2c877-8b59-4daa-ef2c-46a8cbf83590"
      },
      "outputs": [
        {
          "name": "stdout",
          "output_type": "stream",
          "text": [
            "5 3\n"
          ]
        }
      ],
      "source": [
        "A=3\n",
        "B=5\n",
        "A,B=B,A\n",
        "print(A,B)"
      ]
    },
    {
      "cell_type": "code",
      "execution_count": null,
      "metadata": {
        "id": "thPSqgA08UCp",
        "outputId": "08375d30-7982-4317-c2d0-b37085579281"
      },
      "outputs": [
        {
          "name": "stdout",
          "output_type": "stream",
          "text": [
            "3 5 1\n"
          ]
        }
      ],
      "source": [
        "A,B,C=1,3,5\n",
        "A,B,C=B,C,A\n",
        "print(A,B,C)"
      ]
    },
    {
      "cell_type": "code",
      "execution_count": null,
      "metadata": {
        "id": "rVLGFpfs8UCp",
        "outputId": "ac982112-9399-4752-cc73-b6047b7793ba"
      },
      "outputs": [
        {
          "data": {
            "text/html": [
              "\n",
              "        <iframe\n",
              "            width=\"100%\"\n",
              "            height=\"350\"\n",
              "            src=\"http://pythontutor.com/iframe-embed.html#code=%2Aa%2Cb%2Cc%2Cd%3D%281%2C2%2C3%2C4%2C5%2C6%29%0Aprint%28a%29%0Aprint%28b%29%0Aprint%28c%29%0Aprint%28d%29%0A&origin=opt-frontend.js&cumulative=false&heapPrimitives=false&textReferences=false&curInstr=0&&verticalStack=false&py=3&rawInputLstJSON=%5B%5D&codeDivWidth=50%25&codeDivHeight=100%25\"\n",
              "            frameborder=\"0\"\n",
              "            allowfullscreen\n",
              "            \n",
              "        ></iframe>\n",
              "        "
            ],
            "text/plain": [
              "<IPython.lib.display.IFrame at 0x1ea183824f0>"
            ]
          },
          "metadata": {},
          "output_type": "display_data"
        }
      ],
      "source": [
        "%%tutor --lang python3\n",
        "*a,b,c,d=(1,2,3,4,5,6)\n",
        "print(a)\n",
        "print(b)\n",
        "print(c)\n",
        "print(d)"
      ]
    },
    {
      "cell_type": "markdown",
      "metadata": {
        "id": "inNOydej8UCq"
      },
      "source": [
        "<h4>Exercice</h4>\n",
        "Ecrire une fonction <b>Somme</b> qui prend comme argument une séquence de nombre et afficher leur somme .\n",
        "<h5>Exemple</h5>\n",
        "<ul> \n",
        "     <li>Somme(1,5) ======> 6</li>\n",
        "     <li>Somme(3,4,5) ========> 12</li>\n",
        "     <li>Somme(1,2,3,4,5) ====> 15</li>\n",
        "</ul>"
      ]
    },
    {
      "cell_type": "code",
      "execution_count": null,
      "metadata": {
        "id": "09faigcl8UCq"
      },
      "outputs": [],
      "source": [
        "def somme(*args):\n",
        "    s=0\n",
        "    for i in args:\n",
        "        s=s+i\n",
        "    return s"
      ]
    },
    {
      "cell_type": "code",
      "execution_count": null,
      "metadata": {
        "id": "Q7HA3xAW8UCq",
        "outputId": "32ee0586-708f-4940-f3f4-e7dedd579579"
      },
      "outputs": [
        {
          "data": {
            "text/plain": [
              "21"
            ]
          },
          "execution_count": 52,
          "metadata": {},
          "output_type": "execute_result"
        }
      ],
      "source": [
        "somme(1,2,3,4,5)+somme(2,3)+somme(1)"
      ]
    },
    {
      "cell_type": "markdown",
      "metadata": {
        "id": "7-U0sZOe8UCq"
      },
      "source": [
        "************************************************************************************************************************************************\n",
        "<h1>Dictionairies</h1>"
      ]
    },
    {
      "cell_type": "code",
      "execution_count": null,
      "metadata": {
        "id": "Z9oByZrp8UCr"
      },
      "outputs": [],
      "source": [
        "notes=[13,14,15,16]"
      ]
    },
    {
      "cell_type": "code",
      "execution_count": null,
      "metadata": {
        "id": "dXR59eTE8UCr"
      },
      "outputs": [],
      "source": [
        "grades={\"ana\":13,\"algo\":14,\"algebre\":15,\"français\":16}"
      ]
    },
    {
      "cell_type": "code",
      "execution_count": null,
      "metadata": {
        "id": "Q2MXh55D8UCr",
        "outputId": "5bb50a72-f4d5-431a-b36e-7f243a1440bb"
      },
      "outputs": [
        {
          "data": {
            "text/plain": [
              "16"
            ]
          },
          "execution_count": 56,
          "metadata": {},
          "output_type": "execute_result"
        }
      ],
      "source": [
        "grades[\"français\"]"
      ]
    },
    {
      "cell_type": "code",
      "execution_count": null,
      "metadata": {
        "id": "iYzdCJkn8UCr",
        "outputId": "44f335dd-e214-4535-e727-8d7405d26d80"
      },
      "outputs": [
        {
          "data": {
            "text/plain": [
              "{'ana': 13, 'algo': 14, 'algebre': 15, 'français': 16}"
            ]
          },
          "execution_count": 57,
          "metadata": {},
          "output_type": "execute_result"
        }
      ],
      "source": [
        "grades"
      ]
    },
    {
      "cell_type": "code",
      "execution_count": null,
      "metadata": {
        "id": "_FZRbnf68UCr"
      },
      "outputs": [],
      "source": [
        "grades[\"ana\"]=15"
      ]
    },
    {
      "cell_type": "code",
      "execution_count": null,
      "metadata": {
        "id": "OOIXbYyC8UCr",
        "outputId": "bf8371d7-f572-4a58-9461-bd03e14baaac"
      },
      "outputs": [
        {
          "data": {
            "text/plain": [
              "{'ana': 15, 'algo': 14, 'algebre': 15, 'français': 16}"
            ]
          },
          "execution_count": 59,
          "metadata": {},
          "output_type": "execute_result"
        }
      ],
      "source": [
        "grades"
      ]
    },
    {
      "cell_type": "code",
      "execution_count": null,
      "metadata": {
        "id": "uEi6y_Kb8UCs",
        "outputId": "8ae6d34c-262a-4516-ca63-f5e42150df33"
      },
      "outputs": [
        {
          "data": {
            "text/plain": [
              "dict_keys(['ana', 'algo', 'algebre', 'français'])"
            ]
          },
          "execution_count": 60,
          "metadata": {},
          "output_type": "execute_result"
        }
      ],
      "source": [
        "grades.keys()"
      ]
    },
    {
      "cell_type": "code",
      "execution_count": null,
      "metadata": {
        "id": "KJoc9HzD8UCs",
        "outputId": "404ffa8f-4f76-48dd-d9a5-838edea5f609"
      },
      "outputs": [
        {
          "data": {
            "text/plain": [
              "dict_values([15, 14, 15, 16])"
            ]
          },
          "execution_count": 61,
          "metadata": {},
          "output_type": "execute_result"
        }
      ],
      "source": [
        "grades.values()"
      ]
    },
    {
      "cell_type": "code",
      "execution_count": null,
      "metadata": {
        "id": "5Mfp3Sat8UCs"
      },
      "outputs": [],
      "source": [
        "grades[\"anglais\"]=17   #this craetes a new key to the dictionary"
      ]
    },
    {
      "cell_type": "code",
      "execution_count": null,
      "metadata": {
        "id": "FOBsAnox8UCs",
        "outputId": "c09ef9c2-5faa-4280-dd5b-902f0eeb6b05"
      },
      "outputs": [
        {
          "data": {
            "text/plain": [
              "{'algo': 14, 'algebre': 15, 'français': 16, 'anglais': 17, 'ana': 15}"
            ]
          },
          "execution_count": 69,
          "metadata": {},
          "output_type": "execute_result"
        }
      ],
      "source": [
        "grades"
      ]
    },
    {
      "cell_type": "code",
      "execution_count": null,
      "metadata": {
        "id": "zYv3qAJK8UCs"
      },
      "outputs": [],
      "source": [
        "del grades[\"ana\"]"
      ]
    },
    {
      "cell_type": "code",
      "execution_count": null,
      "metadata": {
        "id": "NY2Zjj0f8UCs",
        "outputId": "a0828e2f-1195-480f-8828-afe8260dfe24"
      },
      "outputs": [
        {
          "data": {
            "text/plain": [
              "{'algo': 14, 'algebre': 15, 'français': 16, 'anglais': 17}"
            ]
          },
          "execution_count": 71,
          "metadata": {},
          "output_type": "execute_result"
        }
      ],
      "source": [
        "grades"
      ]
    },
    {
      "cell_type": "code",
      "execution_count": null,
      "metadata": {
        "id": "XMhnr8rM8UCs",
        "outputId": "fe13530e-bee2-4627-c966-0139e4162ac5"
      },
      "outputs": [
        {
          "data": {
            "text/plain": [
              "dict_items([('algo', 14), ('algebre', 15), ('français', 16), ('anglais', 17)])"
            ]
          },
          "execution_count": 74,
          "metadata": {},
          "output_type": "execute_result"
        }
      ],
      "source": [
        "grades.items()"
      ]
    },
    {
      "cell_type": "code",
      "execution_count": null,
      "metadata": {
        "id": "hFJ6gcrP8UCt",
        "outputId": "5fc588be-dce6-4154-dbd8-2de7ef2ddb39"
      },
      "outputs": [
        {
          "name": "stdout",
          "output_type": "stream",
          "text": [
            " la note dans le module algo est 14\n",
            " la note dans le module algebre est 15\n",
            " la note dans le module français est 16\n",
            " la note dans le module anglais est 17\n"
          ]
        }
      ],
      "source": [
        "for key,val in grades.items():\n",
        "    print(f' la note dans le module {key} est {val}')"
      ]
    },
    {
      "cell_type": "code",
      "execution_count": null,
      "metadata": {
        "id": "-Vx2lOxa8UCt",
        "outputId": "091cc811-433a-4d12-a342-5f21f1e857be"
      },
      "outputs": [
        {
          "data": {
            "text/plain": [
              "{'algo': 14, 'algebre': 15, 'français': 16, 'anglais': 17, 'ana': 14}"
            ]
          },
          "execution_count": 86,
          "metadata": {},
          "output_type": "execute_result"
        }
      ],
      "source": [
        "grades"
      ]
    },
    {
      "cell_type": "code",
      "execution_count": null,
      "metadata": {
        "id": "384yr_QR8UCt",
        "outputId": "8a99564b-44a4-413f-beda-7a4afb95869f"
      },
      "outputs": [
        {
          "name": "stdout",
          "output_type": "stream",
          "text": [
            "{14: 'ana', 15: 'algebre', 16: 'français', 17: 'anglais'}\n"
          ]
        }
      ],
      "source": [
        "out={}\n",
        "for key,val in grades.items():\n",
        "    out[val]=key                  #c'est faux car l'algo a ete écrasé\n",
        "print(out)"
      ]
    },
    {
      "cell_type": "code",
      "execution_count": null,
      "metadata": {
        "id": "HHEeKE6k8UCt",
        "outputId": "32686948-5dc2-4bd5-eb51-a111fae79b53"
      },
      "outputs": [
        {
          "data": {
            "text/html": [
              "\n",
              "        <iframe\n",
              "            width=\"100%\"\n",
              "            height=\"350\"\n",
              "            src=\"http://pythontutor.com/iframe-embed.html#code=grades%3D%7B%27algo%27%3A%2014%2C%20%27algebre%27%3A%2015%2C%20%27fran%C3%A7ais%27%3A%2016%2C%20%27anglais%27%3A%2017%2C%20%27ana%27%3A%2014%7D%0Aout%3D%7B%7D%0Afor%20key%2Cval%20in%20grades.items%28%29%3A%0A%20%20%20%20if%20val%20not%20in%20out%20%3A%0A%20%20%20%20%20%20%20%20out%5Bval%5D%3D%5B%5D%0A%20%20%20%20out%5Bval%5D.append%28key%29%20%20%20%20%20%20%20%20%20%20%20%20%20%20%20%20%20%20%0Aprint%28out%29%0A&origin=opt-frontend.js&cumulative=false&heapPrimitives=false&textReferences=false&curInstr=0&&verticalStack=false&py=3&rawInputLstJSON=%5B%5D&codeDivWidth=50%25&codeDivHeight=100%25\"\n",
              "            frameborder=\"0\"\n",
              "            allowfullscreen\n",
              "            \n",
              "        ></iframe>\n",
              "        "
            ],
            "text/plain": [
              "<IPython.lib.display.IFrame at 0x1ea1e312b20>"
            ]
          },
          "metadata": {},
          "output_type": "display_data"
        }
      ],
      "source": [
        "%%tutor --lang python3\n",
        "grades={'algo': 14, 'algebre': 15, 'français': 16, 'anglais': 17, 'ana': 14}\n",
        "out={}\n",
        "for key,val in grades.items():\n",
        "    if val not in out :\n",
        "        out[val]=[]\n",
        "    out[val].append(key)                  \n",
        "print(out)"
      ]
    },
    {
      "cell_type": "markdown",
      "metadata": {
        "id": "yRfv6nRd8UCt"
      },
      "source": [
        "************************************************************************************************************************************************\n",
        "<h1>Comprehension</h1>"
      ]
    },
    {
      "cell_type": "code",
      "execution_count": null,
      "metadata": {
        "id": "aWT5_Dm38UCt",
        "outputId": "6c9b9fc2-8799-4dc4-f960-d70eafaa5bbb"
      },
      "outputs": [
        {
          "name": "stdout",
          "output_type": "stream",
          "text": [
            "[9, 16, 25, 36, 49, 64, 81, 100, 121, 144, 169, 196, 225]\n"
          ]
        }
      ],
      "source": [
        "L=[]\n",
        "for i in range(3,16):\n",
        "    L.append(i**2)\n",
        "print(L)"
      ]
    },
    {
      "cell_type": "code",
      "execution_count": null,
      "metadata": {
        "id": "crZrMaWp8UCu",
        "outputId": "d9f333d9-6eec-4de2-bccd-c3caffeb017e"
      },
      "outputs": [
        {
          "data": {
            "text/plain": [
              "[9, 16, 25, 36, 49, 64, 81, 100, 121, 144, 169, 196, 225]"
            ]
          },
          "execution_count": 90,
          "metadata": {},
          "output_type": "execute_result"
        }
      ],
      "source": [
        "[x**2 for x in range (3,16)]   #this is list comprehension"
      ]
    },
    {
      "cell_type": "code",
      "execution_count": null,
      "metadata": {
        "id": "9Akd6Bk48UCu",
        "outputId": "5791b727-c549-435d-8233-73300386ff3e"
      },
      "outputs": [
        {
          "data": {
            "text/plain": [
              "[3, 5, 6, 9, 10, 12]"
            ]
          },
          "execution_count": 1,
          "metadata": {},
          "output_type": "execute_result"
        }
      ],
      "source": [
        "#la liste des entiers de 1 à 100 qui sont miltiple de 3 ou multiple de 5\n",
        "[i for i in range(1,15) if i%3==0 or i%5==0 ]"
      ]
    },
    {
      "cell_type": "code",
      "execution_count": null,
      "metadata": {
        "id": "D-kEL9bH8UCu",
        "outputId": "b377ee94-d62f-4699-9910-099e5f4240f4"
      },
      "outputs": [
        {
          "data": {
            "text/plain": [
              "[21, 5, 7, 8, 9]"
            ]
          },
          "execution_count": 2,
          "metadata": {},
          "output_type": "execute_result"
        }
      ],
      "source": [
        "[int(input(\"donner un nombre : \"))for i in range(5)]"
      ]
    },
    {
      "cell_type": "code",
      "execution_count": null,
      "metadata": {
        "id": "dL8gEBOL8UCu"
      },
      "outputs": [],
      "source": [
        "f=lambda x,y:x+y"
      ]
    },
    {
      "cell_type": "code",
      "execution_count": null,
      "metadata": {
        "id": "X63X1e8c8UCu",
        "outputId": "cbfba190-5475-4f4f-d664-24cb01e2f806"
      },
      "outputs": [
        {
          "data": {
            "text/plain": [
              "11"
            ]
          },
          "execution_count": 102,
          "metadata": {},
          "output_type": "execute_result"
        }
      ],
      "source": [
        "f(5,6)"
      ]
    },
    {
      "cell_type": "code",
      "execution_count": null,
      "metadata": {
        "id": "WS3BBO-N8UCu",
        "outputId": "4b71a989-9eb3-4b7e-92fa-12545d2f16ff"
      },
      "outputs": [
        {
          "data": {
            "text/plain": [
              "5"
            ]
          },
          "execution_count": 4,
          "metadata": {},
          "output_type": "execute_result"
        }
      ],
      "source": [
        "(lambda L:L[0]+L[-1]-L[1])([3,5,7])"
      ]
    },
    {
      "cell_type": "code",
      "execution_count": null,
      "metadata": {
        "id": "o-0CPDC58UCu",
        "outputId": "490da910-b05e-447f-f221-972818150f9e"
      },
      "outputs": [
        {
          "data": {
            "text/plain": [
              "12"
            ]
          },
          "execution_count": 5,
          "metadata": {},
          "output_type": "execute_result"
        }
      ],
      "source": [
        "(lambda L:L[0]+L[-1])([int(input(\"donner un nombre : \"))for i in range(5)])"
      ]
    },
    {
      "cell_type": "markdown",
      "metadata": {
        "id": "a7v02lol8UCv"
      },
      "source": [
        "************************************************************************************************************************************************\n",
        "<h3>We can Modify Stuff from a list</h3>"
      ]
    },
    {
      "cell_type": "code",
      "execution_count": null,
      "metadata": {
        "id": "9VqRNa9W8UCv"
      },
      "outputs": [],
      "source": [
        "t=[1,2,3]"
      ]
    },
    {
      "cell_type": "code",
      "execution_count": null,
      "metadata": {
        "id": "w8qIZ4x-8UCv",
        "outputId": "797285f2-f43b-46ab-898e-828d083d1b47"
      },
      "outputs": [
        {
          "data": {
            "text/plain": [
              "1"
            ]
          },
          "execution_count": 12,
          "metadata": {},
          "output_type": "execute_result"
        }
      ],
      "source": [
        "t[0]"
      ]
    },
    {
      "cell_type": "code",
      "execution_count": null,
      "metadata": {
        "id": "4r6046GF8UCv",
        "outputId": "0180ad48-c020-4c43-9598-3f54024cac39"
      },
      "outputs": [
        {
          "ename": "NameError",
          "evalue": "name 't' is not defined",
          "output_type": "error",
          "traceback": [
            "\u001b[1;31m---------------------------------------------------------------------------\u001b[0m",
            "\u001b[1;31mNameError\u001b[0m                                 Traceback (most recent call last)",
            "\u001b[1;32mc:\\Users\\user\\Desktop\\studies\\Python Studies\\Python4LM-master\\notebook.ipynb Cell 47\u001b[0m in \u001b[0;36m<cell line: 1>\u001b[1;34m()\u001b[0m\n\u001b[1;32m----> <a href='vscode-notebook-cell:/c%3A/Users/user/Desktop/studies/Python%20Studies/Python4LM-master/notebook.ipynb#X64sZmlsZQ%3D%3D?line=0'>1</a>\u001b[0m t[\u001b[39m0\u001b[39m]\u001b[39m=\u001b[39m\u001b[39m25\u001b[39m\n",
            "\u001b[1;31mNameError\u001b[0m: name 't' is not defined"
          ]
        }
      ],
      "source": [
        "t[0]=25"
      ]
    },
    {
      "cell_type": "code",
      "execution_count": null,
      "metadata": {
        "id": "sZe6EaYu8UCv",
        "outputId": "4c7f84b9-e0a3-4006-aaa6-0395800eba2b"
      },
      "outputs": [
        {
          "name": "stdout",
          "output_type": "stream",
          "text": [
            "[25, 2, 3]\n"
          ]
        }
      ],
      "source": [
        "print(t)"
      ]
    },
    {
      "cell_type": "markdown",
      "metadata": {
        "id": "IqRzM5Z38UCv"
      },
      "source": [
        "************************************************************************************************************************************************\n",
        "<h3>We Can't Do The Same With CHAINES</h3>"
      ]
    },
    {
      "cell_type": "code",
      "execution_count": null,
      "metadata": {
        "id": "tPM_bx-78UCv"
      },
      "outputs": [],
      "source": [
        "ch='abc'"
      ]
    },
    {
      "cell_type": "code",
      "execution_count": null,
      "metadata": {
        "id": "KnIRu-ZG8UCw",
        "outputId": "75019d48-9bc4-4a4c-f939-2e9efcbe738d"
      },
      "outputs": [
        {
          "data": {
            "text/plain": [
              "'a'"
            ]
          },
          "execution_count": 14,
          "metadata": {},
          "output_type": "execute_result"
        }
      ],
      "source": [
        "ch[0]"
      ]
    },
    {
      "cell_type": "code",
      "execution_count": null,
      "metadata": {
        "id": "rpqjk4uR8UCw",
        "outputId": "36f2c215-11d1-4f4e-f092-5d4695722329"
      },
      "outputs": [
        {
          "ename": "NameError",
          "evalue": "name 'ch' is not defined",
          "output_type": "error",
          "traceback": [
            "\u001b[1;31m---------------------------------------------------------------------------\u001b[0m",
            "\u001b[1;31mNameError\u001b[0m                                 Traceback (most recent call last)",
            "\u001b[1;32mc:\\Users\\user\\Desktop\\studies\\Python Studies\\Python4LM-master\\notebook.ipynb Cell 52\u001b[0m in \u001b[0;36m<cell line: 1>\u001b[1;34m()\u001b[0m\n\u001b[1;32m----> <a href='vscode-notebook-cell:/c%3A/Users/user/Desktop/studies/Python%20Studies/Python4LM-master/notebook.ipynb#Y102sZmlsZQ%3D%3D?line=0'>1</a>\u001b[0m ch[\u001b[39m0\u001b[39m]\u001b[39m=\u001b[39m\u001b[39m'\u001b[39m\u001b[39mb\u001b[39m\u001b[39m'\u001b[39m\n",
            "\u001b[1;31mNameError\u001b[0m: name 'ch' is not defined"
          ]
        }
      ],
      "source": [
        "ch[0]='b'"
      ]
    },
    {
      "cell_type": "markdown",
      "metadata": {
        "id": "PucpG1-x8UCw"
      },
      "source": [
        "************************************************************************************************************************************************"
      ]
    }
  ],
  "metadata": {
    "colab": {
      "provenance": [],
      "include_colab_link": true
    },
    "kernelspec": {
      "display_name": "Python 3",
      "language": "python",
      "name": "python3"
    },
    "language_info": {
      "codemirror_mode": {
        "name": "ipython",
        "version": 3
      },
      "file_extension": ".py",
      "mimetype": "text/x-python",
      "name": "python",
      "nbconvert_exporter": "python",
      "pygments_lexer": "ipython3",
      "version": "3.9.12"
    },
    "orig_nbformat": 4,
    "vscode": {
      "interpreter": {
        "hash": "a077222d77dfe082b8f1dd562ad70e458ac2ab76993a0b248ab0476e32e9e8dd"
      }
    }
  },
  "nbformat": 4,
  "nbformat_minor": 0
}