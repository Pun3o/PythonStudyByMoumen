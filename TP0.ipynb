{
  "cells": [
    {
      "cell_type": "markdown",
      "metadata": {
        "id": "view-in-github",
        "colab_type": "text"
      },
      "source": [
        "<a href=\"https://colab.research.google.com/github/Pun3o/PythonStudiesByMoumen/blob/main/TP0.ipynb\" target=\"_parent\"><img src=\"https://colab.research.google.com/assets/colab-badge.svg\" alt=\"Open In Colab\"/></a>"
      ]
    },
    {
      "cell_type": "markdown",
      "metadata": {
        "id": "HqySwl7nXDjr"
      },
      "source": [
        "# LAB0 Welcome to python <img src=\"https://www.python.org/static/community_logos/python-powered-w-200x80.png\">\n",
        "<img src=\"https://isitcom.rnu.tn/useruploads/images/logo-isitcom.png\" width=\"100\" height=\"100\">\n",
        "\n",
        "## Goals\n",
        "Welcome to your first lab day! Labs in Python For `LM` are designed to be your opportunity to experiment with Python and gain hands-on experience with the language.\n",
        "\n",
        "The primary goal of this lab is to ensure that your Python installation process went smoothly, and that there are no lingering Python 2/3 bugs floating around.\n",
        "\n",
        "This lab also gives you the chance to write what might be your first programs in Python, and allows you to experiment with both scripts and with the interactive interpreter!\n",
        "\n",
        "These problems are not intended to be algorithmically challenging - just ways to flex your new Python 3 muscles. Even if the problems seem simple, work through them quickly, and then you're free to go.\n",
        "\n",
        "As always, have fun, and enjoy the (remainder of the) class period!\n",
        "\n",
        "\n"
      ]
    },
    {
      "cell_type": "markdown",
      "metadata": {
        "id": "eQbMqpiuXDj6"
      },
      "source": [
        "## Warming Up\n",
        "\n",
        "### Hello World\n",
        "\n",
        "If you haven’t already, write a Hello World program which consists of getting Python to print `\"Hello, World!\"` to the console. First, write this program using the interactive interpreter. Next, put the body of the program into a file named `hello.py`, and run the Hello World program as a Python script."
      ]
    },
    {
      "cell_type": "code",
      "execution_count": null,
      "metadata": {
        "id": "ey-_9RNFXDj7",
        "outputId": "19d3bc35-f373-445f-fdec-f556b86b939d"
      },
      "outputs": [
        {
          "name": "stdout",
          "output_type": "stream",
          "text": [
            "hello world\n"
          ]
        }
      ],
      "source": [
        "print(\"hello world\")"
      ]
    },
    {
      "cell_type": "markdown",
      "metadata": {
        "id": "LSUnNiaKXDj8"
      },
      "source": [
        "### Printing\n",
        "\n",
        "Write a program using `print()` that, when run, prints out a tic-tac-toe board.\n",
        "\n",
        "```\n",
        "  |  |\n",
        "--------\n",
        "  |  |\n",
        "--------\n",
        "  |  |  \n",
        "```\n",
        "\n",
        "*Hint: you may find the optional arguments to `print` useful. You can read about them [here](https://docs.python.org/3.4/library/functions.html#print)*"
      ]
    },
    {
      "cell_type": "code",
      "execution_count": null,
      "metadata": {
        "colab": {
          "base_uri": "https://localhost:8080/"
        },
        "id": "933vlAoUXDj9",
        "outputId": "96af28d6-47bd-405f-f3ec-b8b85e38472e"
      },
      "outputs": [
        {
          "name": "stdout",
          "output_type": "stream",
          "text": [
            "  |  |  \n",
            "--------\n",
            "  |  |  \n",
            "--------\n",
            "  |  |\n"
          ]
        }
      ],
      "source": [
        "print(\"\"\"  |  |  \n",
        "--------\n",
        "  |  |  \n",
        "--------\n",
        "  |  |\"\"\")"
      ]
    },
    {
      "cell_type": "markdown",
      "metadata": {
        "id": "bp81c0pkXDj9"
      },
      "source": [
        "### Printing #2 (challenge)\n",
        "\n",
        "Write a program that, when run, prints out a SUPER tic-tac-toe board.\n",
        "\n",
        "```\n",
        "  |  |  H  |  |  H  |  |  \n",
        "--+--+--H--+--+--H--+--+--\n",
        "  |  |  H  |  |  H  |  |  \n",
        "--+--+--H--+--+--H--+--+--\n",
        "  |  |  H  |  |  H  |  |  \n",
        "========+========+========\n",
        "  |  |  H  |  |  H  |  |  \n",
        "--+--+--H--+--+--H--+--+--\n",
        "  |  |  H  |  |  H  |  |  \n",
        "--+--+--H--+--+--H--+--+--\n",
        "  |  |  H  |  |  H  |  |  \n",
        "========+========+========\n",
        "  |  |  H  |  |  H  |  |  \n",
        "--+--+--H--+--+--H--+--+--\n",
        "  |  |  H  |  |  H  |  |  \n",
        "--+--+--H--+--+--H--+--+--\n",
        "  |  |  H  |  |  H  |  |  \n",
        "```\n",
        "\n",
        "You'll find that there may be many ways to solve this problem. Which do you think is the most 'pythonic?' Talk to someone next to you about your approach to this problem. Remember the Zen of Python!"
      ]
    },
    {
      "cell_type": "code",
      "execution_count": null,
      "metadata": {
        "colab": {
          "base_uri": "https://localhost:8080/"
        },
        "id": "kgLNvbeEXDj-",
        "outputId": "f9b1ecc1-7cee-4a71-b456-76ded014306e"
      },
      "outputs": [
        {
          "name": "stdout",
          "output_type": "stream",
          "text": [
            "  |  |  H  |  |  H  |  |  \n",
            "--+--+--H--+--+--H--+--+--\n",
            "  |  |  H  |  |  H  |  |  \n",
            "--+--+--H--+--+--H--+--+--\n",
            "  |  |  H  |  |  H  |  |  \n",
            "========+========+========\n",
            "  |  |  H  |  |  H  |  |  \n",
            "--+--+--H--+--+--H--+--+--\n",
            "  |  |  H  |  |  H  |  |  \n",
            "--+--+--H--+--+--H--+--+--\n",
            "  |  |  H  |  |  H  |  |  \n",
            "========+========+========\n",
            "  |  |  H  |  |  H  |  |  \n",
            "--+--+--H--+--+--H--+--+--\n",
            "  |  |  H  |  |  H  |  |  \n",
            "--+--+--H--+--+--H--+--+--\n",
            "  |  |  H  |  |  H  |  |  \n"
          ]
        }
      ],
      "source": [
        "for i in range (3):\n",
        "  print(\"\"\"  |  |  H  |  |  H  |  |  \n",
        "--+--+--H--+--+--H--+--+--\n",
        "  |  |  H  |  |  H  |  |  \n",
        "--+--+--H--+--+--H--+--+--\n",
        "  |  |  H  |  |  H  |  |  \"\"\")\n",
        "  if i<2 :\n",
        "    print(\"========+========+========\")"
      ]
    },
    {
      "cell_type": "markdown",
      "metadata": {
        "id": "19pJw7DQXDj_"
      },
      "source": [
        "### Fizz, Buzz, FizzBuzz!\n",
        "If we list all of the natural numbers under 41 that are a multiple of 3 or 5, we get\n",
        "\n",
        "```\n",
        " 3,  5,  6,  9, 10, 12, 15,\n",
        "18, 20, 21, 24, 25, 27, 30,\n",
        "33, 35, 36, 39, 40\n",
        "```\n",
        "\n",
        "The sum of these numbers is 408.\n",
        "\n",
        "Find the sum of all the multiples of 3 or 5 below 1001."
      ]
    },
    {
      "cell_type": "code",
      "execution_count": null,
      "metadata": {
        "id": "dI0AMP0s5DQR",
        "outputId": "cc54da24-f08a-4dc8-e5c8-97b7e6790c16"
      },
      "outputs": [
        {
          "name": "stdout",
          "output_type": "stream",
          "text": [
            "Le nombre n egale 5 et m egale 7\n",
            "les nombres n=5 et m=7\n"
          ]
        }
      ],
      "source": [
        "#format's use \n",
        "n=5\n",
        "m=7\n",
        "print(\"Le nombre n egale {} et m egale {}\".format(n,m))  \n",
        "#how to use print(f\"   \")\n",
        "print(f\"les nombres n={n} et m={m}\")"
      ]
    },
    {
      "cell_type": "code",
      "execution_count": null,
      "metadata": {
        "id": "8OXVIe-S5DQR",
        "outputId": "a3ce8193-13af-4eb3-9c70-d49052f7a19a"
      },
      "outputs": [
        {
          "name": "stdout",
          "output_type": "stream",
          "text": [
            "*****5\n",
            "5*****\n",
            "***5***\n"
          ]
        }
      ],
      "source": [
        "#amazing way to use print(f)\n",
        "print(f\"{n:*>6}\")\n",
        "print(f\"{n:*<6}\")\n",
        "print(f\"{n:*^7}\")"
      ]
    },
    {
      "cell_type": "code",
      "execution_count": null,
      "metadata": {
        "colab": {
          "base_uri": "https://localhost:8080/"
        },
        "id": "IckR_5NbXDkA",
        "outputId": "048251f4-3207-4754-8acf-cbe19186dd93"
      },
      "outputs": [
        {
          "name": "stdout",
          "output_type": "stream",
          "text": [
            "3,  5,  6,  9,  10,  12,  15,  \n",
            "18,  20,  21,  24,  25,  27,  30,  \n",
            "33,  35,  36,  39,  40,  \n",
            "\n",
            "          Take 2\n",
            "*3,*5,*6,*9,10,12,15,\n",
            "18,20,21,24,25,27,30,\n",
            "33,35,36,39,40,42,45,\n"
          ]
        }
      ],
      "source": [
        "#initial work\n",
        "c=0\n",
        "for i in range(1,41):\n",
        "  if i%3==0 or i%5==0 :\n",
        "    print(i,end=',  ')\n",
        "    c=c+1\n",
        "    if c%7==0 :\n",
        "      print(\"\\n\",end='')\n",
        "#Better version (correct version)\n",
        "print(\"\\n\\n          Take 2\")\n",
        "c=0\n",
        "ch=''\n",
        "n=45\n",
        "t=len(str(n))\n",
        "for i in range(1,n+1):\n",
        "  if i%3==0 or i%5==0 :\n",
        "    #print(i,end=',  ')\n",
        "    ch=ch+f\"{i:*>{t}},\"\n",
        "    c=c+1\n",
        "    if c%7==0 :\n",
        "      #print(\"\\n\",end='')\n",
        "      ch=ch+'\\n'\n",
        "print(ch[:-1])"
      ]
    },
    {
      "cell_type": "code",
      "execution_count": null,
      "metadata": {
        "colab": {
          "base_uri": "https://localhost:8080/"
        },
        "id": "Jx0sJ0My1u0F",
        "outputId": "f39032b7-7ccb-40d2-eb0f-d0e95de39244"
      },
      "outputs": [
        {
          "name": "stdout",
          "output_type": "stream",
          "text": [
            "3, 5, 6, 9, 10, 12, 15, \n",
            "18, 20, 21, 24, 25, 27, 30, \n",
            "33, 35, 36, 39, 40, 42, 45,\n"
          ]
        }
      ],
      "source": [
        "ch=''\n",
        "c=0\n",
        "for i in range(1,46):\n",
        "  if i%3==0 or i%5==0 :\n",
        "    ch=ch+str(i)+', '\n",
        "    c=c+1\n",
        "    if c%7==0 :\n",
        "      ch=ch+\"\\n\"\n",
        "print(ch[:-3])"
      ]
    },
    {
      "cell_type": "code",
      "execution_count": null,
      "metadata": {
        "colab": {
          "base_uri": "https://localhost:8080/"
        },
        "id": "_jDx3COY3LsE",
        "outputId": "38e52054-80a7-41f4-9edc-160d837ebe6a"
      },
      "outputs": [
        {
          "name": "stdout",
          "output_type": "stream",
          "text": [
            "3, 5, 6, 9, 10, 12, 15, \n",
            "18, 20, 21, 24, 25, 27, 30, \n",
            "33, 35, 36, 39, 40, 42, 45, \n",
            "48, 50, 51, 54, 55, 57, 60, \n",
            "63, 65, 66, 69, 70, 72, 75, \n",
            "78, 80, 81, 84, 85, 87, 90, \n",
            "93, 95, 96, 99, \n",
            "2318\n"
          ]
        }
      ],
      "source": [
        "ch=''\n",
        "c=0\n",
        "s=0\n",
        "for i in range(1,100):\n",
        "  if i%3==0 or i%5==0 :\n",
        "    ch=ch+str(i)+', '\n",
        "    c=c+1\n",
        "    s=s+i\n",
        "    if c%7==0 :\n",
        "      ch=ch+\"\\n\"\n",
        "if ch[-2:]==' \\n':\n",
        "  print(ch[:-3])\n",
        "else:\n",
        "  print(ch[:-2])\n",
        "print(s)"
      ]
    },
    {
      "cell_type": "markdown",
      "metadata": {
        "id": "QgOC5Z9OXDkA"
      },
      "source": [
        "### Collatz Sequence\n",
        "Depending on who you took CS106A from, you may have seen this problem before.\n",
        "\n",
        "The *Collatz sequence* is an iterative sequence defined on the positive integers by:\n",
        "\n",
        "```\n",
        "n -> n / 2    if n is even\n",
        "n -> 3n + 1   if n is odd\n",
        "```\n",
        "\n",
        "For example, using the rule above and starting with 13 yields the sequence:\n",
        "\n",
        "```\n",
        "13 -> 40 -> 20 -> 10 -> 5 -> 16 -> 8 -> 4 -> 2 -> 1\n",
        "```\n",
        "\n",
        "It can be seen that this sequence (starting at 13 and finishing at 1) contains 10 terms. Although unproven, it it hypothesized that all starting numbers finish at 1.\n",
        "\n",
        "What is the length of the longest chain which has a starting number under 1000?\n",
        "\n",
        ">*NOTE: Once the chain starts the terms are allowed to go above one thousand.*\n",
        "\n",
        "Challenge: Same question, but for any starting number under 1,000,000 (you may need to implement a cleverer-than-naive algorithm)"
      ]
    },
    {
      "cell_type": "code",
      "execution_count": null,
      "metadata": {
        "colab": {
          "base_uri": "https://localhost:8080/"
        },
        "id": "E6jszFfkXDkB",
        "outputId": "d92991b7-cceb-4d28-f43a-5e830e541125"
      },
      "outputs": [
        {
          "name": "stdout",
          "output_type": "stream",
          "text": [
            "40-> 20-> 10-> 5-> 16-> 8-> 4-> 2-> 1-> "
          ]
        }
      ],
      "source": [
        "#my take\n",
        "n=13\n",
        "while n!=1 :\n",
        "  if n%2==0 :\n",
        "    n=n//2\n",
        "  else:\n",
        "    n=3*n+1\n",
        "  print(n,end='-> ')"
      ]
    },
    {
      "cell_type": "code",
      "execution_count": null,
      "metadata": {
        "colab": {
          "base_uri": "https://localhost:8080/"
        },
        "id": "CD6h2TbG54xj",
        "outputId": "61acc98f-d1b6-45c7-ddd6-fade37862c00"
      },
      "outputs": [
        {
          "name": "stdout",
          "output_type": "stream",
          "text": [
            "13 --> 40 --> 20 --> 10 --> 5 --> 16 --> 8 --> 4 --> 2 --> 1\n"
          ]
        }
      ],
      "source": [
        "#prof's take\n",
        "n=13\n",
        "ch=str(n)+' --> '\n",
        "s=0\n",
        "while n!=1 :\n",
        "  \n",
        "  if n%2==0 :\n",
        "    n=n//2\n",
        "  else:\n",
        "    n=3*n+1\n",
        "  ch=ch+str(n)+' --> '\n",
        "print(ch[:-5])"
      ]
    },
    {
      "cell_type": "code",
      "execution_count": null,
      "metadata": {
        "id": "Y_Kcy3am6oR8",
        "outputId": "c8552145-8392-49a9-9398-c9608375255b"
      },
      "outputs": [
        {
          "name": "stdout",
          "output_type": "stream",
          "text": [
            "13 --> 40 --> 20 --> 10 --> 5 --> 16 --> 8 --> 4 --> 2 --> 1\n",
            "la longuer de la sequence est : 10\n"
          ]
        }
      ],
      "source": [
        "#Rayen BH take with sequence counter\n",
        "n=int(input(\"donner la valeur de n :\"))\n",
        "c=1\n",
        "ch=''+str(n)+' --> '\n",
        "while n!=1:\n",
        "  c+=1\n",
        "  if n%2==0:\n",
        "    n=n//2\n",
        "    ch=ch+str(n)+' --> '\n",
        "  else:\n",
        "    n=3*n+1\n",
        "    ch=ch+str(n)+' --> '\n",
        "print(ch[:-5])\n",
        "print(\"la longuer de la sequence est :\",c)"
      ]
    },
    {
      "cell_type": "markdown",
      "metadata": {
        "id": "HD0zUkswXDkB"
      },
      "source": [
        "### Fahrenheit-to-Celsius converter\n",
        "Write a program to convert degrees Fahrenheit to degrees Celcius by (1) asking the user for a number (not necessarily integral) representing the current temperature in degrees Fahrenheit, (2) converting that value into the equivalent degrees Celsius, and (3) printing the final equivalent value.\n",
        "\n",
        "For example, your program should be able to emulate the following sample run:\n",
        "\n",
        "```\n",
        "Temperature F? 212\n",
        "It is 100.0 degrees Celsius.\n",
        "\n",
        "Temperature F? 98.6\n",
        "It is 37.0 degrees Celsius.\n",
        "\n",
        "Temperature F? 10\n",
        "It is -12.222222222222221 degrees Celsius.\n",
        "```\n",
        "\n",
        "Want to be fancy (challenge)? Try to print the final temperature to two decimal places. *Hint: Take a look at the [`round()`](https://docs.python.org/3.4/library/functions.html#round) function. Isn't Python great?*"
      ]
    },
    {
      "cell_type": "code",
      "execution_count": null,
      "metadata": {
        "colab": {
          "base_uri": "https://localhost:8080/"
        },
        "id": "M0RuuVH7XDkB",
        "outputId": "ec8f8364-cedc-456c-8b2e-a26f0659c3a8"
      },
      "outputs": [
        {
          "name": "stdout",
          "output_type": "stream",
          "text": [
            "Temperature F?212\n",
            "It is  100.0  degrees Celsius.\n"
          ]
        }
      ],
      "source": []
    },
    {
      "cell_type": "markdown",
      "metadata": {
        "id": "p8lMuiwXXDkC"
      },
      "source": [
        "## Done Early?\n",
        "\n",
        "Skim [Python’s Style Guide](https://www.python.org/dev/peps/pep-0008/), keeping the **Zen of Python** in mind. Feel free to skip portions of the style guide that cover material we haven't yet touched on in this class, but it's always good to start with an overview of good style.\n",
        "\n",
        "## Submitting Labs\n",
        "\n",
        "Alright, you did it! There's nothing to submit for this lab. You're free to leave as soon as you've finished this lab."
      ]
    }
  ],
  "metadata": {
    "colab": {
      "provenance": [],
      "include_colab_link": true
    },
    "kernelspec": {
      "display_name": "Python 3.9.12 ('base')",
      "language": "python",
      "name": "python3"
    },
    "language_info": {
      "codemirror_mode": {
        "name": "ipython",
        "version": 3
      },
      "file_extension": ".py",
      "mimetype": "text/x-python",
      "name": "python",
      "nbconvert_exporter": "python",
      "pygments_lexer": "ipython3",
      "version": "3.9.12"
    },
    "vscode": {
      "interpreter": {
        "hash": "a077222d77dfe082b8f1dd562ad70e458ac2ab76993a0b248ab0476e32e9e8dd"
      }
    }
  },
  "nbformat": 4,
  "nbformat_minor": 0
}