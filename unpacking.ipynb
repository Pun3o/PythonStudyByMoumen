{
 "cells": [
  {
   "cell_type": "code",
   "execution_count": 1,
   "metadata": {},
   "outputs": [
    {
     "name": "stdout",
     "output_type": "stream",
     "text": [
      "5 3\n"
     ]
    }
   ],
   "source": [
    "a=3\n",
    "b=5\n",
    "a,b=b,a\n",
    "print(a,b)"
   ]
  },
  {
   "cell_type": "code",
   "execution_count": 3,
   "metadata": {},
   "outputs": [
    {
     "name": "stdout",
     "output_type": "stream",
     "text": [
      "1 [2, 3, 4] 5\n"
     ]
    }
   ],
   "source": [
    "a,*b,c=(1,2,3,4,5)\n",
    "print(a,b,c)"
   ]
  },
  {
   "cell_type": "code",
   "execution_count": 4,
   "metadata": {},
   "outputs": [],
   "source": [
    "def somme(*c):\n",
    "    s=0\n",
    "    for i in c:\n",
    "        s=s+i\n",
    "    return s"
   ]
  },
  {
   "cell_type": "code",
   "execution_count": 5,
   "metadata": {},
   "outputs": [
    {
     "data": {
      "text/plain": [
       "5"
      ]
     },
     "execution_count": 5,
     "metadata": {},
     "output_type": "execute_result"
    }
   ],
   "source": [
    "somme(2,3)"
   ]
  },
  {
   "cell_type": "code",
   "execution_count": 6,
   "metadata": {},
   "outputs": [
    {
     "data": {
      "text/plain": [
       "12"
      ]
     },
     "execution_count": 6,
     "metadata": {},
     "output_type": "execute_result"
    }
   ],
   "source": [
    "somme(3,4,5)"
   ]
  },
  {
   "cell_type": "code",
   "execution_count": 7,
   "metadata": {},
   "outputs": [],
   "source": [
    "notes=[14,15,13.5]"
   ]
  },
  {
   "cell_type": "code",
   "execution_count": 8,
   "metadata": {},
   "outputs": [],
   "source": [
    "dic={\"math\":14,\"algo\":15,\"phy\":13,\"sys\":5}"
   ]
  },
  {
   "cell_type": "code",
   "execution_count": 9,
   "metadata": {},
   "outputs": [
    {
     "data": {
      "text/plain": [
       "14"
      ]
     },
     "execution_count": 9,
     "metadata": {},
     "output_type": "execute_result"
    }
   ],
   "source": [
    "dic[\"math\"]"
   ]
  },
  {
   "cell_type": "code",
   "execution_count": 10,
   "metadata": {},
   "outputs": [
    {
     "data": {
      "text/plain": [
       "13"
      ]
     },
     "execution_count": 10,
     "metadata": {},
     "output_type": "execute_result"
    }
   ],
   "source": [
    "dic[\"phy\"]"
   ]
  },
  {
   "cell_type": "code",
   "execution_count": 12,
   "metadata": {},
   "outputs": [],
   "source": [
    "dic[\"philo\"]=10"
   ]
  },
  {
   "cell_type": "code",
   "execution_count": 13,
   "metadata": {},
   "outputs": [
    {
     "data": {
      "text/plain": [
       "{'math': 14, 'algo': 15, 'phy': 13, 'sys': 5, 'philo': 10}"
      ]
     },
     "execution_count": 13,
     "metadata": {},
     "output_type": "execute_result"
    }
   ],
   "source": [
    "dic"
   ]
  },
  {
   "cell_type": "code",
   "execution_count": 14,
   "metadata": {},
   "outputs": [
    {
     "data": {
      "text/plain": [
       "dict_items([('math', 14), ('algo', 15), ('phy', 13), ('sys', 5), ('philo', 10)])"
      ]
     },
     "execution_count": 14,
     "metadata": {},
     "output_type": "execute_result"
    }
   ],
   "source": [
    "dic.items()"
   ]
  },
  {
   "cell_type": "code",
   "execution_count": 15,
   "metadata": {},
   "outputs": [
    {
     "data": {
      "text/plain": [
       "dict_keys(['math', 'algo', 'phy', 'sys', 'philo'])"
      ]
     },
     "execution_count": 15,
     "metadata": {},
     "output_type": "execute_result"
    }
   ],
   "source": [
    "dic.keys()"
   ]
  },
  {
   "cell_type": "code",
   "execution_count": 16,
   "metadata": {},
   "outputs": [
    {
     "data": {
      "text/plain": [
       "dict_values([14, 15, 13, 5, 10])"
      ]
     },
     "execution_count": 16,
     "metadata": {},
     "output_type": "execute_result"
    }
   ],
   "source": [
    "dic.values()"
   ]
  },
  {
   "cell_type": "code",
   "execution_count": 19,
   "metadata": {},
   "outputs": [
    {
     "name": "stdout",
     "output_type": "stream",
     "text": [
      "math ---> 14\n",
      "algo ---> 15\n",
      "phy  ---> 13\n",
      "sys  --->  5\n",
      "philo---> 10\n"
     ]
    }
   ],
   "source": [
    "# parcourir un dictionnaire\n",
    "\n",
    "for key,val in dic.items():\n",
    "    print(\"{:5}---> {:2}\".format(key,val))"
   ]
  },
  {
   "cell_type": "code",
   "execution_count": 27,
   "metadata": {},
   "outputs": [],
   "source": [
    "dic={'math': 14, 'algo': 13, 'phy': 13, 'sys': 5, 'philo': 10,\"mod\":10}"
   ]
  },
  {
   "cell_type": "markdown",
   "metadata": {},
   "source": [
    "# inversement d'un dictionnaire"
   ]
  },
  {
   "cell_type": "code",
   "execution_count": 28,
   "metadata": {},
   "outputs": [
    {
     "name": "stdout",
     "output_type": "stream",
     "text": [
      "{14: ['math'], 13: ['algo', 'phy'], 5: ['sys'], 10: ['philo', 'mod']}\n"
     ]
    }
   ],
   "source": [
    "dic_inv={}\n",
    "for key,val in dic.items():\n",
    "    if val not in dic_inv:\n",
    "        dic_inv[val]=[]\n",
    "    dic_inv[val].append(key)\n",
    "\n",
    "print(dic_inv)"
   ]
  },
  {
   "cell_type": "code",
   "execution_count": 37,
   "metadata": {},
   "outputs": [],
   "source": [
    "L=[1,2,3,[4,[5]],6,[7,8,9]]"
   ]
  },
  {
   "cell_type": "markdown",
   "metadata": {},
   "source": [
    "# Flat list\n",
    "\n",
    "L====>[1,2,3,4,5,6,7,8,9]\n",
    "\n",
    "\n",
    "$$ E=\\{x^2+1, \\forall x \\in \\{3,..11\\}\\}$$"
   ]
  },
  {
   "cell_type": "code",
   "execution_count": 32,
   "metadata": {},
   "outputs": [
    {
     "data": {
      "text/plain": [
       "[10, 17, 26, 37, 50, 65, 82, 101, 122]"
      ]
     },
     "execution_count": 32,
     "metadata": {},
     "output_type": "execute_result"
    }
   ],
   "source": [
    "E=[]\n",
    "for x in range(3,12):\n",
    "    E.append(x**2+1)\n",
    "E\n"
   ]
  },
  {
   "cell_type": "code",
   "execution_count": 33,
   "metadata": {},
   "outputs": [],
   "source": [
    "L=[x**2+1 for x in range(3,12)] # list comprhenesion"
   ]
  },
  {
   "cell_type": "code",
   "execution_count": 34,
   "metadata": {},
   "outputs": [
    {
     "data": {
      "text/plain": [
       "[10, 17, 26, 37, 50, 65, 82, 101, 122]"
      ]
     },
     "execution_count": 34,
     "metadata": {},
     "output_type": "execute_result"
    }
   ],
   "source": [
    "L"
   ]
  },
  {
   "cell_type": "code",
   "execution_count": 38,
   "metadata": {},
   "outputs": [
    {
     "data": {
      "text/plain": [
       "[1, 2, 3, 6]"
      ]
     },
     "execution_count": 38,
     "metadata": {},
     "output_type": "execute_result"
    }
   ],
   "source": [
    "list(filter(lambda x:type(x)==int,L))"
   ]
  },
  {
   "cell_type": "code",
   "execution_count": 1,
   "metadata": {},
   "outputs": [],
   "source": [
    "a=1\n",
    "b=5\n",
    "a,b=b,a"
   ]
  },
  {
   "cell_type": "code",
   "execution_count": 2,
   "metadata": {},
   "outputs": [
    {
     "name": "stdout",
     "output_type": "stream",
     "text": [
      "5 1\n"
     ]
    }
   ],
   "source": [
    "print(a,b)"
   ]
  },
  {
   "cell_type": "code",
   "execution_count": 3,
   "metadata": {},
   "outputs": [],
   "source": [
    "a,b,c=(3,5,7)"
   ]
  },
  {
   "cell_type": "code",
   "execution_count": 5,
   "metadata": {},
   "outputs": [
    {
     "name": "stdout",
     "output_type": "stream",
     "text": [
      "1\n",
      "2\n",
      "[3, 4]\n",
      "5\n"
     ]
    }
   ],
   "source": [
    "a,b,*c,d=(1,2,3,4,5)\n",
    "print(a)\n",
    "print(b)\n",
    "print(c)\n",
    "print(d)"
   ]
  },
  {
   "cell_type": "code",
   "execution_count": 6,
   "metadata": {},
   "outputs": [],
   "source": [
    "def somme(*args):\n",
    "    s=0\n",
    "    for i in args:\n",
    "        s=s+i\n",
    "    return s"
   ]
  },
  {
   "cell_type": "code",
   "execution_count": 9,
   "metadata": {},
   "outputs": [
    {
     "data": {
      "text/plain": [
       "16"
      ]
     },
     "execution_count": 9,
     "metadata": {},
     "output_type": "execute_result"
    }
   ],
   "source": [
    "somme(3,4,6)+somme(1,2)"
   ]
  },
  {
   "cell_type": "code",
   "execution_count": 10,
   "metadata": {},
   "outputs": [
    {
     "data": {
      "text/plain": [
       "1"
      ]
     },
     "execution_count": 10,
     "metadata": {},
     "output_type": "execute_result"
    }
   ],
   "source": [
    "somme(1)"
   ]
  },
  {
   "cell_type": "code",
   "execution_count": 11,
   "metadata": {},
   "outputs": [],
   "source": [
    "def GCD1(a,b):\n",
    "    while b:\n",
    "        a,b=b,a%b\n",
    "    return a"
   ]
  },
  {
   "cell_type": "code",
   "execution_count": 12,
   "metadata": {},
   "outputs": [
    {
     "data": {
      "text/plain": [
       "5"
      ]
     },
     "execution_count": 12,
     "metadata": {},
     "output_type": "execute_result"
    }
   ],
   "source": [
    "GCD1(25,15)"
   ]
  },
  {
   "cell_type": "code",
   "execution_count": 13,
   "metadata": {},
   "outputs": [],
   "source": [
    "liste_note=[13,15,13]"
   ]
  },
  {
   "cell_type": "code",
   "execution_count": 14,
   "metadata": {},
   "outputs": [],
   "source": [
    "dic_note={\"math\":12,\"alg\":15,\"python\":1}"
   ]
  },
  {
   "cell_type": "code",
   "execution_count": 15,
   "metadata": {},
   "outputs": [
    {
     "data": {
      "text/plain": [
       "1"
      ]
     },
     "execution_count": 15,
     "metadata": {},
     "output_type": "execute_result"
    }
   ],
   "source": [
    "dic_note[\"python\"]"
   ]
  },
  {
   "cell_type": "code",
   "execution_count": 16,
   "metadata": {},
   "outputs": [],
   "source": [
    "dic_note[\"fra\"]=15"
   ]
  },
  {
   "cell_type": "code",
   "execution_count": 17,
   "metadata": {},
   "outputs": [
    {
     "data": {
      "text/plain": [
       "{'math': 12, 'alg': 15, 'python': 1, 'fra': 15}"
      ]
     },
     "execution_count": 17,
     "metadata": {},
     "output_type": "execute_result"
    }
   ],
   "source": [
    "dic_note"
   ]
  },
  {
   "cell_type": "code",
   "execution_count": 18,
   "metadata": {},
   "outputs": [],
   "source": [
    "dic_note[\"python\"]=18"
   ]
  },
  {
   "cell_type": "code",
   "execution_count": 19,
   "metadata": {},
   "outputs": [
    {
     "data": {
      "text/plain": [
       "dict_keys(['math', 'alg', 'python', 'fra'])"
      ]
     },
     "execution_count": 19,
     "metadata": {},
     "output_type": "execute_result"
    }
   ],
   "source": [
    "dic_note.keys()"
   ]
  },
  {
   "cell_type": "code",
   "execution_count": 20,
   "metadata": {},
   "outputs": [
    {
     "data": {
      "text/plain": [
       "dict_values([12, 15, 18, 15])"
      ]
     },
     "execution_count": 20,
     "metadata": {},
     "output_type": "execute_result"
    }
   ],
   "source": [
    "dic_note.values()"
   ]
  },
  {
   "cell_type": "code",
   "execution_count": 21,
   "metadata": {},
   "outputs": [
    {
     "data": {
      "text/plain": [
       "dict_items([('math', 12), ('alg', 15), ('python', 18), ('fra', 15)])"
      ]
     },
     "execution_count": 21,
     "metadata": {},
     "output_type": "execute_result"
    }
   ],
   "source": [
    "dic_note.items()"
   ]
  },
  {
   "cell_type": "code",
   "execution_count": 26,
   "metadata": {},
   "outputs": [],
   "source": [
    "dic={'a':12,'b':15,'c':23,'d':11}"
   ]
  },
  {
   "cell_type": "code",
   "execution_count": 27,
   "metadata": {},
   "outputs": [
    {
     "name": "stdout",
     "output_type": "stream",
     "text": [
      "{12: 'a', 15: 'b', 23: 'c', 11: 'd'}\n"
     ]
    }
   ],
   "source": [
    "out={}\n",
    "for key,val in dic.items():\n",
    "    out[val]=key\n",
    "print(out)"
   ]
  },
  {
   "cell_type": "code",
   "execution_count": 28,
   "metadata": {},
   "outputs": [],
   "source": [
    "dic1={'a':12,'b':15,'c':23,'d':11,'e':12}"
   ]
  },
  {
   "cell_type": "code",
   "execution_count": null,
   "metadata": {},
   "outputs": [],
   "source": []
  },
  {
   "cell_type": "code",
   "execution_count": 34,
   "metadata": {},
   "outputs": [
    {
     "name": "stdout",
     "output_type": "stream",
     "text": [
      "{12: ['a', 'e'], 15: ['b'], 23: ['c'], 11: ['d']}\n"
     ]
    }
   ],
   "source": [
    "out1={}\n",
    "for key,val in dic1.items():        \n",
    "    if val not in out1:\n",
    "        out1[val]=[]\n",
    "    out1[val].append(key)\n",
    "print(out1)"
   ]
  },
  {
   "cell_type": "markdown",
   "metadata": {},
   "source": [
    "$$E=\\{x^2 +3 ;\\forall x \\in \\{3,5,7\\}\\}$$"
   ]
  },
  {
   "cell_type": "code",
   "execution_count": 35,
   "metadata": {},
   "outputs": [
    {
     "name": "stdout",
     "output_type": "stream",
     "text": [
      "[12, 28, 52]\n"
     ]
    }
   ],
   "source": [
    "L=[]\n",
    "for x in [3,5,7]:\n",
    "    L.append(x**2+3)\n",
    "print(L)"
   ]
  },
  {
   "cell_type": "code",
   "execution_count": 37,
   "metadata": {},
   "outputs": [
    {
     "data": {
      "text/plain": [
       "[12, 28, 52]"
      ]
     },
     "execution_count": 37,
     "metadata": {},
     "output_type": "execute_result"
    }
   ],
   "source": [
    "[x**2 +3 for x in [3,5,7]]"
   ]
  },
  {
   "cell_type": "code",
   "execution_count": 46,
   "metadata": {},
   "outputs": [
    {
     "data": {
      "text/plain": [
       "6"
      ]
     },
     "execution_count": 46,
     "metadata": {},
     "output_type": "execute_result"
    }
   ],
   "source": [
    "(lambda L:L[0]+L[-1])([int(input(\" donne un nombre :\")) for i in range(5)])"
   ]
  },
  {
   "cell_type": "code",
   "execution_count": 39,
   "metadata": {},
   "outputs": [
    {
     "data": {
      "text/plain": [
       "7"
      ]
     },
     "execution_count": 39,
     "metadata": {},
     "output_type": "execute_result"
    }
   ],
   "source": [
    "(lambda x,y:x+y)(3,4)"
   ]
  },
  {
   "cell_type": "code",
   "execution_count": 41,
   "metadata": {},
   "outputs": [],
   "source": [
    "f=lambda x,y:x+y"
   ]
  },
  {
   "cell_type": "code",
   "execution_count": 43,
   "metadata": {},
   "outputs": [
    {
     "data": {
      "text/plain": [
       "15"
      ]
     },
     "execution_count": 43,
     "metadata": {},
     "output_type": "execute_result"
    }
   ],
   "source": [
    "f(7,8)"
   ]
  },
  {
   "cell_type": "code",
   "execution_count": 44,
   "metadata": {},
   "outputs": [
    {
     "data": {
      "text/plain": [
       "4"
      ]
     },
     "execution_count": 44,
     "metadata": {},
     "output_type": "execute_result"
    }
   ],
   "source": [
    "(lambda L:L[0]+L[-1])([1,2,3])"
   ]
  },
  {
   "cell_type": "code",
   "execution_count": 45,
   "metadata": {},
   "outputs": [
    {
     "data": {
      "text/plain": [
       "4"
      ]
     },
     "execution_count": 45,
     "metadata": {},
     "output_type": "execute_result"
    }
   ],
   "source": [
    "(lambda L:L[0]+L[-1])([1,2,3])"
   ]
  },
  {
   "cell_type": "code",
   "execution_count": 47,
   "metadata": {},
   "outputs": [
    {
     "data": {
      "text/plain": [
       "[[1, 2, 3, 4, 5, 6, 7, 8, 9],\n",
       " [2, 4, 6, 8, 10, 12, 14, 16, 18],\n",
       " [3, 6, 9, 12, 15, 18, 21, 24, 27],\n",
       " [4, 8, 12, 16, 20, 24, 28, 32, 36],\n",
       " [5, 10, 15, 20, 25, 30, 35, 40, 45],\n",
       " [6, 12, 18, 24, 30, 36, 42, 48, 54],\n",
       " [7, 14, 21, 28, 35, 42, 49, 56, 63],\n",
       " [8, 16, 24, 32, 40, 48, 56, 64, 72],\n",
       " [9, 18, 27, 36, 45, 54, 63, 72, 81]]"
      ]
     },
     "execution_count": 47,
     "metadata": {},
     "output_type": "execute_result"
    }
   ],
   "source": [
    "[[i*j for i in range(1,10)] for j in range(1,10)]"
   ]
  },
  {
   "cell_type": "code",
   "execution_count": 1,
   "metadata": {
    "scrolled": true
   },
   "outputs": [
    {
     "data": {
      "text/plain": [
       "[(1, 0),\n",
       " (2, 0),\n",
       " (2, 1),\n",
       " (3, 0),\n",
       " (3, 1),\n",
       " (3, 2),\n",
       " (4, 0),\n",
       " (4, 1),\n",
       " (4, 2),\n",
       " (4, 3)]"
      ]
     },
     "execution_count": 1,
     "metadata": {},
     "output_type": "execute_result"
    }
   ],
   "source": [
    "[(i,j) for i in range(5) for j in range(i)]"
   ]
  },
  {
   "cell_type": "markdown",
   "metadata": {},
   "source": [
    "[0, 1, 2, 3] -> [1, 3, 5, 7]\n",
    "\n",
    "[3, 8, 9, 5] -> [True, False, True, False]\n",
    "\n",
    "['apple', 'orange', 'pear'] -> ['A', 'O', 'P']"
   ]
  },
  {
   "cell_type": "code",
   "execution_count": 2,
   "metadata": {},
   "outputs": [
    {
     "data": {
      "text/plain": [
       "[1, 3, 5, 7]"
      ]
     },
     "execution_count": 2,
     "metadata": {},
     "output_type": "execute_result"
    }
   ],
   "source": [
    "L=[0, 1, 2, 3]\n",
    "[i*2+1 for i in L]"
   ]
  },
  {
   "cell_type": "code",
   "execution_count": 3,
   "metadata": {},
   "outputs": [
    {
     "data": {
      "text/plain": [
       "[True, False, True, False]"
      ]
     },
     "execution_count": 3,
     "metadata": {},
     "output_type": "execute_result"
    }
   ],
   "source": [
    "M=[3, 8, 9, 5]\n",
    "[ i%3==0 for i in M]"
   ]
  },
  {
   "cell_type": "code",
   "execution_count": 6,
   "metadata": {},
   "outputs": [
    {
     "data": {
      "text/plain": [
       "['A', 'O', 'P']"
      ]
     },
     "execution_count": 6,
     "metadata": {},
     "output_type": "execute_result"
    }
   ],
   "source": [
    "X=['apple', 'orange', 'pear']\n",
    "[mot.upper()[0] for mot in X]"
   ]
  },
  {
   "cell_type": "code",
   "execution_count": null,
   "metadata": {},
   "outputs": [],
   "source": [
    "#['apple', 'orange', 'pear'] ->\n",
    "#[('apple', 5), ('orange', 6), ('pear', 4)]"
   ]
  },
  {
   "cell_type": "code",
   "execution_count": 7,
   "metadata": {},
   "outputs": [
    {
     "data": {
      "text/plain": [
       "[('apple', 5), ('orange', 6), ('pear', 4)]"
      ]
     },
     "execution_count": 7,
     "metadata": {},
     "output_type": "execute_result"
    }
   ],
   "source": [
    "[(mot,len(mot)) for mot in X]"
   ]
  },
  {
   "cell_type": "code",
   "execution_count": 8,
   "metadata": {},
   "outputs": [],
   "source": [
    "import string\n"
   ]
  },
  {
   "cell_type": "code",
   "execution_count": 9,
   "metadata": {},
   "outputs": [],
   "source": [
    "ch=string.ascii_lowercase"
   ]
  },
  {
   "cell_type": "code",
   "execution_count": 10,
   "metadata": {},
   "outputs": [
    {
     "data": {
      "text/plain": [
       "'abcdefghijklmnopqrstuvwxyz'"
      ]
     },
     "execution_count": 10,
     "metadata": {},
     "output_type": "execute_result"
    }
   ],
   "source": [
    "ch"
   ]
  },
  {
   "cell_type": "code",
   "execution_count": 11,
   "metadata": {},
   "outputs": [
    {
     "data": {
      "text/plain": [
       "{'a': 1,\n",
       " 'b': 2,\n",
       " 'c': 3,\n",
       " 'd': 4,\n",
       " 'e': 5,\n",
       " 'f': 6,\n",
       " 'g': 7,\n",
       " 'h': 8,\n",
       " 'i': 9,\n",
       " 'j': 10,\n",
       " 'k': 11,\n",
       " 'l': 12,\n",
       " 'm': 13,\n",
       " 'n': 14,\n",
       " 'o': 15,\n",
       " 'p': 16,\n",
       " 'q': 17,\n",
       " 'r': 18,\n",
       " 's': 19,\n",
       " 't': 20,\n",
       " 'u': 21,\n",
       " 'v': 22,\n",
       " 'w': 23,\n",
       " 'x': 24,\n",
       " 'y': 25,\n",
       " 'z': 26}"
      ]
     },
     "execution_count": 11,
     "metadata": {},
     "output_type": "execute_result"
    }
   ],
   "source": [
    "{ch[i]:i+1 for i in range(len(ch))}"
   ]
  },
  {
   "cell_type": "code",
   "execution_count": 12,
   "metadata": {},
   "outputs": [
    {
     "data": {
      "text/plain": [
       "{'__name__': '__main__',\n",
       " '__doc__': 'Automatically created module for IPython interactive environment',\n",
       " '__package__': None,\n",
       " '__loader__': None,\n",
       " '__spec__': None,\n",
       " '__builtin__': <module 'builtins' (built-in)>,\n",
       " '__builtins__': <module 'builtins' (built-in)>,\n",
       " '_ih': ['',\n",
       "  '[(i,j) for i in range(5) for j in range(i)]',\n",
       "  'L=[0, 1, 2, 3]\\n[i*2+1 for i in L]',\n",
       "  'M=[3, 8, 9, 5]\\n[ i%3==0 for i in M]',\n",
       "  \"X=['apple', 'orange', 'pear']\\n[mot.upper() for mot in X]\",\n",
       "  \"X=['apple', 'orange', 'pear']\\n[mot[0].upper() for mot in X]\",\n",
       "  \"X=['apple', 'orange', 'pear']\\n[mot.upper()[0] for mot in X]\",\n",
       "  '[(mot,len(mot)) for mot in X]',\n",
       "  'import string',\n",
       "  'ch=string.ascii_lowercase',\n",
       "  'ch',\n",
       "  '{ch[i]:i+1 for i in range(len(ch))}',\n",
       "  'globals()'],\n",
       " '_oh': {1: [(1, 0),\n",
       "   (2, 0),\n",
       "   (2, 1),\n",
       "   (3, 0),\n",
       "   (3, 1),\n",
       "   (3, 2),\n",
       "   (4, 0),\n",
       "   (4, 1),\n",
       "   (4, 2),\n",
       "   (4, 3)],\n",
       "  2: [1, 3, 5, 7],\n",
       "  3: [True, False, True, False],\n",
       "  4: ['APPLE', 'ORANGE', 'PEAR'],\n",
       "  5: ['A', 'O', 'P'],\n",
       "  6: ['A', 'O', 'P'],\n",
       "  7: [('apple', 5), ('orange', 6), ('pear', 4)],\n",
       "  10: 'abcdefghijklmnopqrstuvwxyz',\n",
       "  11: {'a': 1,\n",
       "   'b': 2,\n",
       "   'c': 3,\n",
       "   'd': 4,\n",
       "   'e': 5,\n",
       "   'f': 6,\n",
       "   'g': 7,\n",
       "   'h': 8,\n",
       "   'i': 9,\n",
       "   'j': 10,\n",
       "   'k': 11,\n",
       "   'l': 12,\n",
       "   'm': 13,\n",
       "   'n': 14,\n",
       "   'o': 15,\n",
       "   'p': 16,\n",
       "   'q': 17,\n",
       "   'r': 18,\n",
       "   's': 19,\n",
       "   't': 20,\n",
       "   'u': 21,\n",
       "   'v': 22,\n",
       "   'w': 23,\n",
       "   'x': 24,\n",
       "   'y': 25,\n",
       "   'z': 26}},\n",
       " '_dh': ['/home/nevermind/Desktop/Python'],\n",
       " 'In': ['',\n",
       "  '[(i,j) for i in range(5) for j in range(i)]',\n",
       "  'L=[0, 1, 2, 3]\\n[i*2+1 for i in L]',\n",
       "  'M=[3, 8, 9, 5]\\n[ i%3==0 for i in M]',\n",
       "  \"X=['apple', 'orange', 'pear']\\n[mot.upper() for mot in X]\",\n",
       "  \"X=['apple', 'orange', 'pear']\\n[mot[0].upper() for mot in X]\",\n",
       "  \"X=['apple', 'orange', 'pear']\\n[mot.upper()[0] for mot in X]\",\n",
       "  '[(mot,len(mot)) for mot in X]',\n",
       "  'import string',\n",
       "  'ch=string.ascii_lowercase',\n",
       "  'ch',\n",
       "  '{ch[i]:i+1 for i in range(len(ch))}',\n",
       "  'globals()'],\n",
       " 'Out': {1: [(1, 0),\n",
       "   (2, 0),\n",
       "   (2, 1),\n",
       "   (3, 0),\n",
       "   (3, 1),\n",
       "   (3, 2),\n",
       "   (4, 0),\n",
       "   (4, 1),\n",
       "   (4, 2),\n",
       "   (4, 3)],\n",
       "  2: [1, 3, 5, 7],\n",
       "  3: [True, False, True, False],\n",
       "  4: ['APPLE', 'ORANGE', 'PEAR'],\n",
       "  5: ['A', 'O', 'P'],\n",
       "  6: ['A', 'O', 'P'],\n",
       "  7: [('apple', 5), ('orange', 6), ('pear', 4)],\n",
       "  10: 'abcdefghijklmnopqrstuvwxyz',\n",
       "  11: {'a': 1,\n",
       "   'b': 2,\n",
       "   'c': 3,\n",
       "   'd': 4,\n",
       "   'e': 5,\n",
       "   'f': 6,\n",
       "   'g': 7,\n",
       "   'h': 8,\n",
       "   'i': 9,\n",
       "   'j': 10,\n",
       "   'k': 11,\n",
       "   'l': 12,\n",
       "   'm': 13,\n",
       "   'n': 14,\n",
       "   'o': 15,\n",
       "   'p': 16,\n",
       "   'q': 17,\n",
       "   'r': 18,\n",
       "   's': 19,\n",
       "   't': 20,\n",
       "   'u': 21,\n",
       "   'v': 22,\n",
       "   'w': 23,\n",
       "   'x': 24,\n",
       "   'y': 25,\n",
       "   'z': 26}},\n",
       " 'get_ipython': <bound method InteractiveShell.get_ipython of <ipykernel.zmqshell.ZMQInteractiveShell object at 0x7f92f721b8e0>>,\n",
       " 'exit': <IPython.core.autocall.ZMQExitAutocall at 0x7f92f7221a30>,\n",
       " 'quit': <IPython.core.autocall.ZMQExitAutocall at 0x7f92f7221a30>,\n",
       " '_': {'a': 1,\n",
       "  'b': 2,\n",
       "  'c': 3,\n",
       "  'd': 4,\n",
       "  'e': 5,\n",
       "  'f': 6,\n",
       "  'g': 7,\n",
       "  'h': 8,\n",
       "  'i': 9,\n",
       "  'j': 10,\n",
       "  'k': 11,\n",
       "  'l': 12,\n",
       "  'm': 13,\n",
       "  'n': 14,\n",
       "  'o': 15,\n",
       "  'p': 16,\n",
       "  'q': 17,\n",
       "  'r': 18,\n",
       "  's': 19,\n",
       "  't': 20,\n",
       "  'u': 21,\n",
       "  'v': 22,\n",
       "  'w': 23,\n",
       "  'x': 24,\n",
       "  'y': 25,\n",
       "  'z': 26},\n",
       " '__': 'abcdefghijklmnopqrstuvwxyz',\n",
       " '___': [('apple', 5), ('orange', 6), ('pear', 4)],\n",
       " '_i': '{ch[i]:i+1 for i in range(len(ch))}',\n",
       " '_ii': 'ch',\n",
       " '_iii': 'ch=string.ascii_lowercase',\n",
       " '_i1': '[(i,j) for i in range(5) for j in range(i)]',\n",
       " '_1': [(1, 0),\n",
       "  (2, 0),\n",
       "  (2, 1),\n",
       "  (3, 0),\n",
       "  (3, 1),\n",
       "  (3, 2),\n",
       "  (4, 0),\n",
       "  (4, 1),\n",
       "  (4, 2),\n",
       "  (4, 3)],\n",
       " '_i2': 'L=[0, 1, 2, 3]\\n[i*2+1 for i in L]',\n",
       " 'L': [0, 1, 2, 3],\n",
       " '_2': [1, 3, 5, 7],\n",
       " '_i3': 'M=[3, 8, 9, 5]\\n[ i%3==0 for i in M]',\n",
       " 'M': [3, 8, 9, 5],\n",
       " '_3': [True, False, True, False],\n",
       " '_i4': \"X=['apple', 'orange', 'pear']\\n[mot.upper() for mot in X]\",\n",
       " 'X': ['apple', 'orange', 'pear'],\n",
       " '_4': ['APPLE', 'ORANGE', 'PEAR'],\n",
       " '_i5': \"X=['apple', 'orange', 'pear']\\n[mot[0].upper() for mot in X]\",\n",
       " '_5': ['A', 'O', 'P'],\n",
       " '_i6': \"X=['apple', 'orange', 'pear']\\n[mot.upper()[0] for mot in X]\",\n",
       " '_6': ['A', 'O', 'P'],\n",
       " '_i7': '[(mot,len(mot)) for mot in X]',\n",
       " '_7': [('apple', 5), ('orange', 6), ('pear', 4)],\n",
       " '_i8': 'import string',\n",
       " 'string': <module 'string' from '/media/nevermind/D/anaconda3/lib/python3.9/string.py'>,\n",
       " '_i9': 'ch=string.ascii_lowercase',\n",
       " 'ch': 'abcdefghijklmnopqrstuvwxyz',\n",
       " '_i10': 'ch',\n",
       " '_10': 'abcdefghijklmnopqrstuvwxyz',\n",
       " '_i11': '{ch[i]:i+1 for i in range(len(ch))}',\n",
       " '_11': {'a': 1,\n",
       "  'b': 2,\n",
       "  'c': 3,\n",
       "  'd': 4,\n",
       "  'e': 5,\n",
       "  'f': 6,\n",
       "  'g': 7,\n",
       "  'h': 8,\n",
       "  'i': 9,\n",
       "  'j': 10,\n",
       "  'k': 11,\n",
       "  'l': 12,\n",
       "  'm': 13,\n",
       "  'n': 14,\n",
       "  'o': 15,\n",
       "  'p': 16,\n",
       "  'q': 17,\n",
       "  'r': 18,\n",
       "  's': 19,\n",
       "  't': 20,\n",
       "  'u': 21,\n",
       "  'v': 22,\n",
       "  'w': 23,\n",
       "  'x': 24,\n",
       "  'y': 25,\n",
       "  'z': 26},\n",
       " '_i12': 'globals()'}"
      ]
     },
     "execution_count": 12,
     "metadata": {},
     "output_type": "execute_result"
    }
   ],
   "source": [
    "globals()"
   ]
  },
  {
   "cell_type": "code",
   "execution_count": 13,
   "metadata": {},
   "outputs": [
    {
     "data": {
      "text/plain": [
       "{'__name__': '__main__',\n",
       " '__doc__': 'Automatically created module for IPython interactive environment',\n",
       " '__package__': None,\n",
       " '__loader__': None,\n",
       " '__spec__': None,\n",
       " '__builtin__': <module 'builtins' (built-in)>,\n",
       " '__builtins__': <module 'builtins' (built-in)>,\n",
       " '_ih': ['',\n",
       "  '[(i,j) for i in range(5) for j in range(i)]',\n",
       "  'L=[0, 1, 2, 3]\\n[i*2+1 for i in L]',\n",
       "  'M=[3, 8, 9, 5]\\n[ i%3==0 for i in M]',\n",
       "  \"X=['apple', 'orange', 'pear']\\n[mot.upper() for mot in X]\",\n",
       "  \"X=['apple', 'orange', 'pear']\\n[mot[0].upper() for mot in X]\",\n",
       "  \"X=['apple', 'orange', 'pear']\\n[mot.upper()[0] for mot in X]\",\n",
       "  '[(mot,len(mot)) for mot in X]',\n",
       "  'import string',\n",
       "  'ch=string.ascii_lowercase',\n",
       "  'ch',\n",
       "  '{ch[i]:i+1 for i in range(len(ch))}',\n",
       "  'globals()',\n",
       "  'locals()'],\n",
       " '_oh': {1: [(1, 0),\n",
       "   (2, 0),\n",
       "   (2, 1),\n",
       "   (3, 0),\n",
       "   (3, 1),\n",
       "   (3, 2),\n",
       "   (4, 0),\n",
       "   (4, 1),\n",
       "   (4, 2),\n",
       "   (4, 3)],\n",
       "  2: [1, 3, 5, 7],\n",
       "  3: [True, False, True, False],\n",
       "  4: ['APPLE', 'ORANGE', 'PEAR'],\n",
       "  5: ['A', 'O', 'P'],\n",
       "  6: ['A', 'O', 'P'],\n",
       "  7: [('apple', 5), ('orange', 6), ('pear', 4)],\n",
       "  10: 'abcdefghijklmnopqrstuvwxyz',\n",
       "  11: {'a': 1,\n",
       "   'b': 2,\n",
       "   'c': 3,\n",
       "   'd': 4,\n",
       "   'e': 5,\n",
       "   'f': 6,\n",
       "   'g': 7,\n",
       "   'h': 8,\n",
       "   'i': 9,\n",
       "   'j': 10,\n",
       "   'k': 11,\n",
       "   'l': 12,\n",
       "   'm': 13,\n",
       "   'n': 14,\n",
       "   'o': 15,\n",
       "   'p': 16,\n",
       "   'q': 17,\n",
       "   'r': 18,\n",
       "   's': 19,\n",
       "   't': 20,\n",
       "   'u': 21,\n",
       "   'v': 22,\n",
       "   'w': 23,\n",
       "   'x': 24,\n",
       "   'y': 25,\n",
       "   'z': 26},\n",
       "  12: {...}},\n",
       " '_dh': ['/home/nevermind/Desktop/Python'],\n",
       " 'In': ['',\n",
       "  '[(i,j) for i in range(5) for j in range(i)]',\n",
       "  'L=[0, 1, 2, 3]\\n[i*2+1 for i in L]',\n",
       "  'M=[3, 8, 9, 5]\\n[ i%3==0 for i in M]',\n",
       "  \"X=['apple', 'orange', 'pear']\\n[mot.upper() for mot in X]\",\n",
       "  \"X=['apple', 'orange', 'pear']\\n[mot[0].upper() for mot in X]\",\n",
       "  \"X=['apple', 'orange', 'pear']\\n[mot.upper()[0] for mot in X]\",\n",
       "  '[(mot,len(mot)) for mot in X]',\n",
       "  'import string',\n",
       "  'ch=string.ascii_lowercase',\n",
       "  'ch',\n",
       "  '{ch[i]:i+1 for i in range(len(ch))}',\n",
       "  'globals()',\n",
       "  'locals()'],\n",
       " 'Out': {1: [(1, 0),\n",
       "   (2, 0),\n",
       "   (2, 1),\n",
       "   (3, 0),\n",
       "   (3, 1),\n",
       "   (3, 2),\n",
       "   (4, 0),\n",
       "   (4, 1),\n",
       "   (4, 2),\n",
       "   (4, 3)],\n",
       "  2: [1, 3, 5, 7],\n",
       "  3: [True, False, True, False],\n",
       "  4: ['APPLE', 'ORANGE', 'PEAR'],\n",
       "  5: ['A', 'O', 'P'],\n",
       "  6: ['A', 'O', 'P'],\n",
       "  7: [('apple', 5), ('orange', 6), ('pear', 4)],\n",
       "  10: 'abcdefghijklmnopqrstuvwxyz',\n",
       "  11: {'a': 1,\n",
       "   'b': 2,\n",
       "   'c': 3,\n",
       "   'd': 4,\n",
       "   'e': 5,\n",
       "   'f': 6,\n",
       "   'g': 7,\n",
       "   'h': 8,\n",
       "   'i': 9,\n",
       "   'j': 10,\n",
       "   'k': 11,\n",
       "   'l': 12,\n",
       "   'm': 13,\n",
       "   'n': 14,\n",
       "   'o': 15,\n",
       "   'p': 16,\n",
       "   'q': 17,\n",
       "   'r': 18,\n",
       "   's': 19,\n",
       "   't': 20,\n",
       "   'u': 21,\n",
       "   'v': 22,\n",
       "   'w': 23,\n",
       "   'x': 24,\n",
       "   'y': 25,\n",
       "   'z': 26},\n",
       "  12: {...}},\n",
       " 'get_ipython': <bound method InteractiveShell.get_ipython of <ipykernel.zmqshell.ZMQInteractiveShell object at 0x7f92f721b8e0>>,\n",
       " 'exit': <IPython.core.autocall.ZMQExitAutocall at 0x7f92f7221a30>,\n",
       " 'quit': <IPython.core.autocall.ZMQExitAutocall at 0x7f92f7221a30>,\n",
       " '_': {...},\n",
       " '__': {'a': 1,\n",
       "  'b': 2,\n",
       "  'c': 3,\n",
       "  'd': 4,\n",
       "  'e': 5,\n",
       "  'f': 6,\n",
       "  'g': 7,\n",
       "  'h': 8,\n",
       "  'i': 9,\n",
       "  'j': 10,\n",
       "  'k': 11,\n",
       "  'l': 12,\n",
       "  'm': 13,\n",
       "  'n': 14,\n",
       "  'o': 15,\n",
       "  'p': 16,\n",
       "  'q': 17,\n",
       "  'r': 18,\n",
       "  's': 19,\n",
       "  't': 20,\n",
       "  'u': 21,\n",
       "  'v': 22,\n",
       "  'w': 23,\n",
       "  'x': 24,\n",
       "  'y': 25,\n",
       "  'z': 26},\n",
       " '___': 'abcdefghijklmnopqrstuvwxyz',\n",
       " '_i': 'globals()',\n",
       " '_ii': '{ch[i]:i+1 for i in range(len(ch))}',\n",
       " '_iii': 'ch',\n",
       " '_i1': '[(i,j) for i in range(5) for j in range(i)]',\n",
       " '_1': [(1, 0),\n",
       "  (2, 0),\n",
       "  (2, 1),\n",
       "  (3, 0),\n",
       "  (3, 1),\n",
       "  (3, 2),\n",
       "  (4, 0),\n",
       "  (4, 1),\n",
       "  (4, 2),\n",
       "  (4, 3)],\n",
       " '_i2': 'L=[0, 1, 2, 3]\\n[i*2+1 for i in L]',\n",
       " 'L': [0, 1, 2, 3],\n",
       " '_2': [1, 3, 5, 7],\n",
       " '_i3': 'M=[3, 8, 9, 5]\\n[ i%3==0 for i in M]',\n",
       " 'M': [3, 8, 9, 5],\n",
       " '_3': [True, False, True, False],\n",
       " '_i4': \"X=['apple', 'orange', 'pear']\\n[mot.upper() for mot in X]\",\n",
       " 'X': ['apple', 'orange', 'pear'],\n",
       " '_4': ['APPLE', 'ORANGE', 'PEAR'],\n",
       " '_i5': \"X=['apple', 'orange', 'pear']\\n[mot[0].upper() for mot in X]\",\n",
       " '_5': ['A', 'O', 'P'],\n",
       " '_i6': \"X=['apple', 'orange', 'pear']\\n[mot.upper()[0] for mot in X]\",\n",
       " '_6': ['A', 'O', 'P'],\n",
       " '_i7': '[(mot,len(mot)) for mot in X]',\n",
       " '_7': [('apple', 5), ('orange', 6), ('pear', 4)],\n",
       " '_i8': 'import string',\n",
       " 'string': <module 'string' from '/media/nevermind/D/anaconda3/lib/python3.9/string.py'>,\n",
       " '_i9': 'ch=string.ascii_lowercase',\n",
       " 'ch': 'abcdefghijklmnopqrstuvwxyz',\n",
       " '_i10': 'ch',\n",
       " '_10': 'abcdefghijklmnopqrstuvwxyz',\n",
       " '_i11': '{ch[i]:i+1 for i in range(len(ch))}',\n",
       " '_11': {'a': 1,\n",
       "  'b': 2,\n",
       "  'c': 3,\n",
       "  'd': 4,\n",
       "  'e': 5,\n",
       "  'f': 6,\n",
       "  'g': 7,\n",
       "  'h': 8,\n",
       "  'i': 9,\n",
       "  'j': 10,\n",
       "  'k': 11,\n",
       "  'l': 12,\n",
       "  'm': 13,\n",
       "  'n': 14,\n",
       "  'o': 15,\n",
       "  'p': 16,\n",
       "  'q': 17,\n",
       "  'r': 18,\n",
       "  's': 19,\n",
       "  't': 20,\n",
       "  'u': 21,\n",
       "  'v': 22,\n",
       "  'w': 23,\n",
       "  'x': 24,\n",
       "  'y': 25,\n",
       "  'z': 26},\n",
       " '_i12': 'globals()',\n",
       " '_12': {...},\n",
       " '_i13': 'locals()'}"
      ]
     },
     "execution_count": 13,
     "metadata": {},
     "output_type": "execute_result"
    }
   ],
   "source": [
    "locals()"
   ]
  },
  {
   "cell_type": "code",
   "execution_count": 18,
   "metadata": {},
   "outputs": [
    {
     "name": "stdout",
     "output_type": "stream",
     "text": [
      "{'y': 3, 'z': 5}\n",
      "34\n",
      "34 3 5\n"
     ]
    },
    {
     "data": {
      "text/plain": [
       "34"
      ]
     },
     "execution_count": 18,
     "metadata": {},
     "output_type": "execute_result"
    }
   ],
   "source": [
    "x = 2\n",
    "def foo(y):\n",
    "    global x \n",
    "    x=34\n",
    "    z = 5\n",
    "    print(locals())\n",
    "    print(globals()['x'])\n",
    "    print(x, y, z)\n",
    "    return x\n",
    "foo(3)"
   ]
  },
  {
   "cell_type": "code",
   "execution_count": 15,
   "metadata": {},
   "outputs": [
    {
     "name": "stdout",
     "output_type": "stream",
     "text": [
      "{'y': 3, 'x': 41, 'z': 5}\n",
      "2\n",
      "41 3 5\n",
      "41\n"
     ]
    }
   ],
   "source": [
    "print(foo(3))"
   ]
  },
  {
   "cell_type": "code",
   "execution_count": 3,
   "metadata": {},
   "outputs": [],
   "source": [
    "def scaled_sum(*args):\n",
    "    return sum(args[:-1])*args[-1]"
   ]
  },
  {
   "cell_type": "code",
   "execution_count": 4,
   "metadata": {},
   "outputs": [
    {
     "data": {
      "text/plain": [
       "100"
      ]
     },
     "execution_count": 4,
     "metadata": {},
     "output_type": "execute_result"
    }
   ],
   "source": [
    "scaled_sum(3,7,10)"
   ]
  },
  {
   "cell_type": "code",
   "execution_count": null,
   "metadata": {},
   "outputs": [],
   "source": []
  }
 ],
 "metadata": {
  "kernelspec": {
   "display_name": "Python 3",
   "language": "python",
   "name": "python3"
  },
  "language_info": {
   "codemirror_mode": {
    "name": "ipython",
    "version": 3
   },
   "file_extension": ".py",
   "mimetype": "text/x-python",
   "name": "python",
   "nbconvert_exporter": "python",
   "pygments_lexer": "ipython3",
   "version": "3.9.13"
  },
  "vscode": {
   "interpreter": {
    "hash": "dd2f083c7091592f6e910b42e81e3d9326587f6134c1427a9ed8e8691fd16a23"
   }
  }
 },
 "nbformat": 4,
 "nbformat_minor": 2
}
