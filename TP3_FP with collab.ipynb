{
  "cells": [
    {
      "cell_type": "markdown",
      "metadata": {
        "id": "view-in-github",
        "colab_type": "text"
      },
      "source": [
        "<a href=\"https://colab.research.google.com/github/Pun3o/PythonStudyByMoumen/blob/main/TP3_FP%20with%20collab.ipynb\" target=\"_parent\"><img src=\"https://colab.research.google.com/assets/colab-badge.svg\" alt=\"Open In Colab\"/></a>"
      ]
    },
    {
      "cell_type": "markdown",
      "metadata": {
        "id": "j4aa5Tb9kFJs"
      },
      "source": [
        "# challenge 1\n",
        "ecrire une fonction **sommeC** qui prend une entier **n** comme input et retourne la somme des carrés de ses chifres\n",
        "ex:\n",
        ">**sommeC(1234)** ====> 1^2 +2^2 +3^2 +4^2 =30\n",
        "\n",
        "1) avec le mots clé **def**\n",
        "2) avec le mot clé **lambda**\n",
        "3) optimiser votre solution"
      ]
    },
    {
      "cell_type": "markdown",
      "metadata": {
        "id": "yk4sEX5xkFJy"
      },
      "source": [
        "# 1)"
      ]
    },
    {
      "cell_type": "code",
      "execution_count": null,
      "metadata": {
        "id": "NTHPXEKZkFJy"
      },
      "outputs": [],
      "source": [
        "def sommeC(n):\n",
        "    ch=str(n)\n",
        "    s=0\n",
        "    for i in ch :\n",
        "        s=s+int(i)**2\n",
        "    return s"
      ]
    },
    {
      "cell_type": "code",
      "execution_count": null,
      "metadata": {
        "id": "uPXV06sxkFJz",
        "outputId": "660a7afe-a91a-455d-b3a9-caa665d7d24f"
      },
      "outputs": [
        {
          "data": {
            "text/plain": [
              "30"
            ]
          },
          "execution_count": 7,
          "metadata": {},
          "output_type": "execute_result"
        }
      ],
      "source": [
        "sommeC(1234)"
      ]
    },
    {
      "cell_type": "markdown",
      "metadata": {
        "id": "HmPfcJrckFJ0"
      },
      "source": [
        "# 1) other ways"
      ]
    },
    {
      "cell_type": "code",
      "execution_count": null,
      "metadata": {
        "id": "3NvAG4TjkFJ0"
      },
      "outputs": [],
      "source": [
        "def sommeC_2(n):\n",
        "    return sum([int(i)**2 for i in list(str(n))])"
      ]
    },
    {
      "cell_type": "code",
      "execution_count": null,
      "metadata": {
        "id": "sa5EsNygkFJ0",
        "outputId": "bb43dc43-22b4-49a2-904b-7c7f8d32c794"
      },
      "outputs": [
        {
          "data": {
            "text/plain": [
              "30"
            ]
          },
          "execution_count": 12,
          "metadata": {},
          "output_type": "execute_result"
        }
      ],
      "source": [
        "sommeC_2(1234)"
      ]
    },
    {
      "cell_type": "markdown",
      "metadata": {
        "id": "Efb_jNEwkFJ0"
      },
      "source": [
        "# 2)"
      ]
    },
    {
      "cell_type": "code",
      "execution_count": null,
      "metadata": {
        "id": "rC43w6hMkFJ0"
      },
      "outputs": [],
      "source": [
        "sommeC_lambda=lambda n:sum([int(i)**2 for i in list(str(n))])"
      ]
    },
    {
      "cell_type": "code",
      "execution_count": null,
      "metadata": {
        "id": "cVQ1J3rZkFJ0",
        "outputId": "3b83b4ee-871a-475a-8b9c-2c0bb5fc7c6d"
      },
      "outputs": [
        {
          "data": {
            "text/plain": [
              "30"
            ]
          },
          "execution_count": 16,
          "metadata": {},
          "output_type": "execute_result"
        }
      ],
      "source": [
        "sommeC_lambda(1234)"
      ]
    },
    {
      "cell_type": "markdown",
      "metadata": {
        "id": "uivd7bMdkFJ0"
      },
      "source": [
        "# 3)"
      ]
    },
    {
      "cell_type": "code",
      "execution_count": null,
      "metadata": {
        "id": "60X6Xnp0kFJ1"
      },
      "outputs": [],
      "source": [
        "sommeC_map =lambda n:sum(list(map(lambda x:int(x)**2 ,list(str(n)))))"
      ]
    },
    {
      "cell_type": "code",
      "execution_count": null,
      "metadata": {
        "id": "4tSE42D3kFJ1",
        "outputId": "7815dd9e-90ee-4b39-dae8-0dd773417f66"
      },
      "outputs": [
        {
          "data": {
            "text/plain": [
              "30"
            ]
          },
          "execution_count": 25,
          "metadata": {},
          "output_type": "execute_result"
        }
      ],
      "source": [
        "sommeC_map(1342)"
      ]
    },
    {
      "cell_type": "markdown",
      "metadata": {
        "id": "HHRkQF1pkFJ1"
      },
      "source": [
        "# challenge 2\n",
        "le nombre de poisson : Nombre dont la somme des cubes de ses chiffres est egale à lui même :\n",
        "ex:\n",
        "> **poisson(153)** 1^3 + 5^3 +3^3 =153\n",
        "1) ecrire une fonction **poisson** qui prend n comme input et retourne **True** si c'est un nombre de **poisson** , **False** sinon\n",
        "2) trouver les nombres de poisson qui sont inferieur ou egale à 1000\n",
        "3) En utilisant **Filtre**"
      ]
    },
    {
      "cell_type": "markdown",
      "metadata": {
        "id": "ld7cvR3rkFJ1"
      },
      "source": [
        "# 1)"
      ]
    },
    {
      "cell_type": "code",
      "execution_count": null,
      "metadata": {
        "id": "9RlBgu3IkFJ1"
      },
      "outputs": [],
      "source": [
        "def poisson (n):\n",
        "    ch=str(n)\n",
        "    s=0\n",
        "    for i in ch:\n",
        "        s=s+int(i)**3\n",
        "    if s==n :\n",
        "        return True\n",
        "    else :\n",
        "        return False"
      ]
    },
    {
      "cell_type": "code",
      "execution_count": null,
      "metadata": {
        "id": "NNoUMOCCkFJ1",
        "outputId": "f0be64c9-cf73-4674-e642-547e7b48b3af"
      },
      "outputs": [
        {
          "data": {
            "text/plain": [
              "True"
            ]
          },
          "execution_count": 29,
          "metadata": {},
          "output_type": "execute_result"
        }
      ],
      "source": [
        "poisson(153)"
      ]
    },
    {
      "cell_type": "markdown",
      "metadata": {
        "id": "khKbO640kFJ1"
      },
      "source": [
        "# 1) with lambda"
      ]
    },
    {
      "cell_type": "code",
      "execution_count": null,
      "metadata": {
        "id": "qKBIcWYPkFJ1"
      },
      "outputs": [],
      "source": [
        "Poisson = lambda n:sum(list(map(lambda x:int(x)**3 ,list(str(n)))))==n"
      ]
    },
    {
      "cell_type": "code",
      "execution_count": null,
      "metadata": {
        "id": "pFPPMihzkFJ1",
        "outputId": "6195e165-3c12-4594-d194-f66fb3d7bb6a"
      },
      "outputs": [
        {
          "data": {
            "text/plain": [
              "True"
            ]
          },
          "execution_count": 37,
          "metadata": {},
          "output_type": "execute_result"
        }
      ],
      "source": [
        "Poisson(153)"
      ]
    },
    {
      "cell_type": "markdown",
      "metadata": {
        "id": "L_O6JM-VkFJ2"
      },
      "source": [
        "# 2)"
      ]
    },
    {
      "cell_type": "code",
      "execution_count": null,
      "metadata": {
        "id": "s7BmddyxkFJ2",
        "outputId": "114a2b6c-f185-489b-e831-f111933cf329"
      },
      "outputs": [
        {
          "name": "stdout",
          "output_type": "stream",
          "text": [
            "0\n",
            "1\n",
            "153\n",
            "370\n",
            "371\n",
            "407\n",
            "6\n"
          ]
        }
      ],
      "source": [
        "r=0\n",
        "for i in range (1000) :\n",
        "    if poisson(i):\n",
        "        r=r+1\n",
        "        print(i)\n",
        "print(r)\n"
      ]
    },
    {
      "cell_type": "code",
      "execution_count": null,
      "metadata": {
        "id": "usGITUkQkFJ2",
        "outputId": "2e661b49-a55c-43e7-db2f-5afe81086760"
      },
      "outputs": [
        {
          "data": {
            "text/plain": [
              "[0, 1, 153, 370, 371, 407]"
            ]
          },
          "execution_count": 39,
          "metadata": {},
          "output_type": "execute_result"
        }
      ],
      "source": [
        "[i for i in range (1000) if poisson(i)]"
      ]
    },
    {
      "cell_type": "markdown",
      "metadata": {
        "id": "TqTO1kXPkFJ2"
      },
      "source": [
        "# 3)"
      ]
    },
    {
      "cell_type": "code",
      "execution_count": null,
      "metadata": {
        "id": "VUnAcTnokFJ2",
        "outputId": "6cc0b9a7-6b4e-44d8-8dbd-41846fd12039"
      },
      "outputs": [
        {
          "data": {
            "text/plain": [
              "[0, 1, 153, 370, 371, 407]"
            ]
          },
          "execution_count": 40,
          "metadata": {},
          "output_type": "execute_result"
        }
      ],
      "source": [
        "list(filter(Poisson,range(1000)))"
      ]
    },
    {
      "cell_type": "markdown",
      "metadata": {
        "id": "Hp3xQSo5kFJ2"
      },
      "source": [
        "# Partie II\n",
        "<h2>MAP</h2>"
      ]
    },
    {
      "cell_type": "code",
      "execution_count": null,
      "metadata": {
        "id": "lIJIkF0SkFJ2",
        "outputId": "d03c986a-143e-4b6f-af4c-4f17293ae809"
      },
      "outputs": [
        {
          "data": {
            "text/plain": [
              "[12, -2, 0]"
            ]
          },
          "execution_count": 41,
          "metadata": {},
          "output_type": "execute_result"
        }
      ],
      "source": [
        "A=['12','-2','0'] #===> [12,-2,0]\n",
        "list(map(int,A))"
      ]
    },
    {
      "cell_type": "code",
      "execution_count": null,
      "metadata": {
        "id": "JcHUwOuSkFJ2",
        "outputId": "3f99ca62-6104-4f70-fecc-5a9e16ca8560"
      },
      "outputs": [
        {
          "data": {
            "text/plain": [
              "[12, -2, 0]"
            ]
          },
          "execution_count": 42,
          "metadata": {},
          "output_type": "execute_result"
        }
      ],
      "source": [
        "[int(x) for x in A]"
      ]
    },
    {
      "cell_type": "code",
      "execution_count": null,
      "metadata": {
        "id": "NOnflyMFkFJ3",
        "outputId": "bcaa1462-4aa9-4669-fd48-c88388ad7180"
      },
      "outputs": [
        {
          "data": {
            "text/plain": [
              "[5, 5]"
            ]
          },
          "execution_count": 43,
          "metadata": {},
          "output_type": "execute_result"
        }
      ],
      "source": [
        "B=['hello', 'world'] #===> [5,5]\n",
        "list(map(len,B))"
      ]
    },
    {
      "cell_type": "code",
      "execution_count": null,
      "metadata": {
        "id": "2KZ-ABvRkFJ3"
      },
      "outputs": [],
      "source": [
        "C=['hello', 'world'] #===> ['olleh', 'dlrow']"
      ]
    },
    {
      "cell_type": "code",
      "execution_count": null,
      "metadata": {
        "id": "SL4YvZSokFJ3",
        "outputId": "e4989c43-ff0f-43ed-9a71-f3c37bc1355f"
      },
      "outputs": [
        {
          "data": {
            "text/plain": [
              "'fedcba'"
            ]
          },
          "execution_count": 44,
          "metadata": {},
          "output_type": "execute_result"
        }
      ],
      "source": [
        "'abcdef'[::-1]"
      ]
    },
    {
      "cell_type": "code",
      "execution_count": null,
      "metadata": {
        "id": "FaXudOqXkFJ3",
        "outputId": "dd3c092c-9cfa-418b-b621-a36854a3ff4e"
      },
      "outputs": [
        {
          "data": {
            "text/plain": [
              "['olleh', 'dlrow']"
            ]
          },
          "execution_count": 47,
          "metadata": {},
          "output_type": "execute_result"
        }
      ],
      "source": [
        "list(map(lambda ch:ch[::-1],C))"
      ]
    },
    {
      "cell_type": "code",
      "execution_count": null,
      "metadata": {
        "id": "lFgmh6SCkFJ3",
        "outputId": "14474c93-b6ee-475f-8b51-623d67e073ec"
      },
      "outputs": [
        {
          "data": {
            "text/plain": [
              "['olleh', 'dlrow']"
            ]
          },
          "execution_count": 48,
          "metadata": {},
          "output_type": "execute_result"
        }
      ],
      "source": [
        "#or\n",
        "[mot[::-1] for mot in C]"
      ]
    },
    {
      "cell_type": "code",
      "execution_count": null,
      "metadata": {
        "id": "lj0CIVSnkFJ3"
      },
      "outputs": [],
      "source": [
        "range(2, 6) #====>[(2, 4, 8), (3, 9, 27), (4, 16, 64), (5, 25, 125)]"
      ]
    },
    {
      "cell_type": "code",
      "execution_count": null,
      "metadata": {
        "id": "zRLNqanZkFJ3",
        "outputId": "f049cbe5-7b26-4fe8-86ca-1b719c3b3023"
      },
      "outputs": [
        {
          "data": {
            "text/plain": [
              "[(2, 4, 8), (3, 9, 27), (4, 16, 64), (5, 25, 125)]"
            ]
          },
          "execution_count": 49,
          "metadata": {},
          "output_type": "execute_result"
        }
      ],
      "source": [
        "list(map(lambda x:(x,x**2,x**3),range(2,6)))"
      ]
    },
    {
      "cell_type": "code",
      "execution_count": null,
      "metadata": {
        "id": "wcmftUKMkFJ3",
        "outputId": "0de63f63-58e0-4a0a-ceb6-c59e4cb5be3e"
      },
      "outputs": [
        {
          "data": {
            "text/plain": [
              "[(2, 3), (3, 5), (4, 7)]"
            ]
          },
          "execution_count": 51,
          "metadata": {},
          "output_type": "execute_result"
        }
      ],
      "source": [
        "list(zip(range(2, 5), range(3, 9, 2))) #===> [6, 15, 28]"
      ]
    },
    {
      "cell_type": "code",
      "execution_count": null,
      "metadata": {
        "id": "LpDh0bNskFJ4",
        "outputId": "634faf99-f2de-42fe-98be-7d83480ba4bd"
      },
      "outputs": [
        {
          "data": {
            "text/plain": [
              "[(1, 'a'), (2, 'b'), (3, 'c')]"
            ]
          },
          "execution_count": 52,
          "metadata": {},
          "output_type": "execute_result"
        }
      ],
      "source": [
        "#exemple sur zip \n",
        "list(zip([1,2,3],['a','b','c']))"
      ]
    },
    {
      "cell_type": "code",
      "execution_count": null,
      "metadata": {
        "id": "-8LSljMjkFJ4",
        "outputId": "434c76fc-9f61-4de6-bbb6-60f67287001b"
      },
      "outputs": [
        {
          "data": {
            "text/plain": [
              "[6, 15, 28]"
            ]
          },
          "execution_count": 53,
          "metadata": {},
          "output_type": "execute_result"
        }
      ],
      "source": [
        "list(map(lambda u:u[0]*u[1],list(zip(range(2, 5), range(3, 9, 2)))))"
      ]
    },
    {
      "cell_type": "markdown",
      "metadata": {
        "id": "jo1Pk_RtkFJ4"
      },
      "source": [
        "# Filtre"
      ]
    },
    {
      "cell_type": "code",
      "execution_count": null,
      "metadata": {
        "id": "7hxDgvgdkFJ4"
      },
      "outputs": [],
      "source": [
        "X=['12', '-2', '0'] #===>\t['12', '0']"
      ]
    },
    {
      "cell_type": "code",
      "execution_count": null,
      "metadata": {
        "id": "-498TgSokFJ4",
        "outputId": "cf5715dc-346a-47ab-89ba-a2265bd60e0a"
      },
      "outputs": [
        {
          "data": {
            "text/plain": [
              "['12', '0']"
            ]
          },
          "execution_count": 56,
          "metadata": {},
          "output_type": "execute_result"
        }
      ],
      "source": [
        "list(filter(lambda ch:ch[0]!='-',X))"
      ]
    },
    {
      "cell_type": "code",
      "execution_count": null,
      "metadata": {
        "id": "pHE1YBzOkFJ4"
      },
      "outputs": [],
      "source": [
        "Y=['hello', 'world']\t#==> ['world']"
      ]
    },
    {
      "cell_type": "code",
      "execution_count": null,
      "metadata": {
        "id": "W_Pw2MrlkFJ4",
        "outputId": "6e07834a-1a5a-471f-f0ee-9635394dd11e"
      },
      "outputs": [
        {
          "data": {
            "text/plain": [
              "['world']"
            ]
          },
          "execution_count": 59,
          "metadata": {},
          "output_type": "execute_result"
        }
      ],
      "source": [
        "list(filter(lambda ch:ch[0]=='w',Y))"
      ]
    },
    {
      "cell_type": "code",
      "execution_count": null,
      "metadata": {
        "id": "SZ_xrSWbkFJ4"
      },
      "outputs": [],
      "source": [
        "W=['Stanford', 'Cal', 'UCLA'] #===>\t['Stanford']"
      ]
    },
    {
      "cell_type": "code",
      "execution_count": null,
      "metadata": {
        "id": "GvUpHt41kFJ4",
        "outputId": "fabd0a20-9a58-451e-825f-96841cff06fe"
      },
      "outputs": [
        {
          "data": {
            "text/plain": [
              "['Stanford']"
            ]
          },
          "execution_count": 62,
          "metadata": {},
          "output_type": "execute_result"
        }
      ],
      "source": [
        "list(filter(lambda ch:len(ch)>4,W))"
      ]
    },
    {
      "cell_type": "code",
      "execution_count": null,
      "metadata": {
        "id": "s_cwUm0RkFJ4",
        "outputId": "20e2cdf6-cda1-4a2d-ff0e-da12f16e2c3c"
      },
      "outputs": [
        {
          "data": {
            "text/plain": [
              "[0, 3, 5, 6, 9, 10, 12, 15, 18]"
            ]
          },
          "execution_count": 63,
          "metadata": {},
          "output_type": "execute_result"
        }
      ],
      "source": [
        "list(filter(lambda x:(x%3==0) or (x%5==0),range(20)))"
      ]
    },
    {
      "cell_type": "code",
      "execution_count": null,
      "metadata": {
        "id": "hC0UDRJckFJ5"
      },
      "outputs": [],
      "source": [
        "#donner la ou les positions du minimum de la liste L\n",
        "L=[1,2,1,4,5,1,56,321,1]"
      ]
    },
    {
      "cell_type": "code",
      "execution_count": null,
      "metadata": {
        "id": "vyCPLrlNkFJ5",
        "outputId": "439babf4-f20a-46d3-8fc8-2bdffa459672"
      },
      "outputs": [
        {
          "data": {
            "text/plain": [
              "[0, 2, 5, 8]"
            ]
          },
          "execution_count": 79,
          "metadata": {},
          "output_type": "execute_result"
        }
      ],
      "source": [
        "[i for i in range (len(L)) if L[i]==min(L)]"
      ]
    },
    {
      "cell_type": "code",
      "execution_count": null,
      "metadata": {
        "id": "s2fJPImxkFJ5",
        "outputId": "9692c601-90ae-4001-9c80-061e0c92fb2c"
      },
      "outputs": [
        {
          "data": {
            "text/plain": [
              "[0, 2, 5, 8]"
            ]
          },
          "execution_count": 82,
          "metadata": {},
          "output_type": "execute_result"
        }
      ],
      "source": [
        "list(filter(lambda x:L[x]==min(L),range(len(L))))"
      ]
    },
    {
      "cell_type": "markdown",
      "metadata": {
        "id": "fXDmiFDGkFJ5"
      },
      "source": [
        "<h2>Efficient Phrase</h2>\n",
        "**efficient phrase** have words that contains \"BCDGIJLMNOPSUVWZ\" "
      ]
    },
    {
      "cell_type": "code",
      "execution_count": null,
      "metadata": {
        "id": "nF5ZNwtckFJ5"
      },
      "outputs": [],
      "source": [
        "#exercice :\n"
      ]
    }
  ],
  "metadata": {
    "kernelspec": {
      "display_name": "base",
      "language": "python",
      "name": "python3"
    },
    "language_info": {
      "codemirror_mode": {
        "name": "ipython",
        "version": 3
      },
      "file_extension": ".py",
      "mimetype": "text/x-python",
      "name": "python",
      "nbconvert_exporter": "python",
      "pygments_lexer": "ipython3",
      "version": "3.9.12"
    },
    "orig_nbformat": 4,
    "colab": {
      "provenance": [],
      "include_colab_link": true
    }
  },
  "nbformat": 4,
  "nbformat_minor": 0
}